{
  "nbformat": 4,
  "nbformat_minor": 0,
  "metadata": {
    "colab": {
      "name": "Network Science.ipynb",
      "provenance": [],
      "collapsed_sections": [],
      "toc_visible": true
    },
    "kernelspec": {
      "name": "python3",
      "display_name": "Python 3"
    }
  },
  "cells": [
    {
      "cell_type": "code",
      "metadata": {
        "id": "KmC3ev7JYNHk",
        "colab_type": "code",
        "outputId": "d1013bdf-0be5-49ee-b3a9-a1f6debd90be",
        "colab": {
          "base_uri": "https://localhost:8080/",
          "height": 394
        }
      },
      "source": [
        "!pip install python-igraph\n",
        "!pip install louvain"
      ],
      "execution_count": 0,
      "outputs": [
        {
          "output_type": "stream",
          "text": [
            "Collecting python-igraph\n",
            "\u001b[?25l  Downloading https://files.pythonhosted.org/packages/0f/a0/4e7134f803737aa6eebb4e5250565ace0e2599659e22be7f7eba520ff017/python-igraph-0.7.1.post6.tar.gz (377kB)\n",
            "\r\u001b[K     |▉                               | 10kB 20.0MB/s eta 0:00:01\r\u001b[K     |█▊                              | 20kB 3.1MB/s eta 0:00:01\r\u001b[K     |██▋                             | 30kB 4.5MB/s eta 0:00:01\r\u001b[K     |███▌                            | 40kB 2.9MB/s eta 0:00:01\r\u001b[K     |████▍                           | 51kB 3.6MB/s eta 0:00:01\r\u001b[K     |█████▏                          | 61kB 4.3MB/s eta 0:00:01\r\u001b[K     |██████                          | 71kB 4.9MB/s eta 0:00:01\r\u001b[K     |███████                         | 81kB 5.5MB/s eta 0:00:01\r\u001b[K     |███████▉                        | 92kB 6.2MB/s eta 0:00:01\r\u001b[K     |████████▊                       | 102kB 4.8MB/s eta 0:00:01\r\u001b[K     |█████████▌                      | 112kB 4.8MB/s eta 0:00:01\r\u001b[K     |██████████▍                     | 122kB 4.8MB/s eta 0:00:01\r\u001b[K     |███████████▎                    | 133kB 4.8MB/s eta 0:00:01\r\u001b[K     |████████████▏                   | 143kB 4.8MB/s eta 0:00:01\r\u001b[K     |█████████████                   | 153kB 4.8MB/s eta 0:00:01\r\u001b[K     |██████████████                  | 163kB 4.8MB/s eta 0:00:01\r\u001b[K     |██████████████▊                 | 174kB 4.8MB/s eta 0:00:01\r\u001b[K     |███████████████▋                | 184kB 4.8MB/s eta 0:00:01\r\u001b[K     |████████████████▌               | 194kB 4.8MB/s eta 0:00:01\r\u001b[K     |█████████████████▍              | 204kB 4.8MB/s eta 0:00:01\r\u001b[K     |██████████████████▎             | 215kB 4.8MB/s eta 0:00:01\r\u001b[K     |███████████████████             | 225kB 4.8MB/s eta 0:00:01\r\u001b[K     |████████████████████            | 235kB 4.8MB/s eta 0:00:01\r\u001b[K     |████████████████████▉           | 245kB 4.8MB/s eta 0:00:01\r\u001b[K     |█████████████████████▊          | 256kB 4.8MB/s eta 0:00:01\r\u001b[K     |██████████████████████▋         | 266kB 4.8MB/s eta 0:00:01\r\u001b[K     |███████████████████████▌        | 276kB 4.8MB/s eta 0:00:01\r\u001b[K     |████████████████████████▎       | 286kB 4.8MB/s eta 0:00:01\r\u001b[K     |█████████████████████████▏      | 296kB 4.8MB/s eta 0:00:01\r\u001b[K     |██████████████████████████      | 307kB 4.8MB/s eta 0:00:01\r\u001b[K     |███████████████████████████     | 317kB 4.8MB/s eta 0:00:01\r\u001b[K     |███████████████████████████▉    | 327kB 4.8MB/s eta 0:00:01\r\u001b[K     |████████████████████████████▋   | 337kB 4.8MB/s eta 0:00:01\r\u001b[K     |█████████████████████████████▌  | 348kB 4.8MB/s eta 0:00:01\r\u001b[K     |██████████████████████████████▍ | 358kB 4.8MB/s eta 0:00:01\r\u001b[K     |███████████████████████████████▎| 368kB 4.8MB/s eta 0:00:01\r\u001b[K     |████████████████████████████████| 378kB 4.8MB/s \n",
            "\u001b[?25hBuilding wheels for collected packages: python-igraph\n",
            "  Building wheel for python-igraph (setup.py) ... \u001b[?25l\u001b[?25hdone\n",
            "  Created wheel for python-igraph: filename=python_igraph-0.7.1.post6-cp36-cp36m-linux_x86_64.whl size=2218378 sha256=224c5de1eb652cec71ec7a1ae8b1636b84174ad3948c635f2e8ebde2dcd7f4e3\n",
            "  Stored in directory: /root/.cache/pip/wheels/41/d6/02/34eebae97e25f5b87d60f4c0687e00523e3f244fa41bc3f4a7\n",
            "Successfully built python-igraph\n",
            "Installing collected packages: python-igraph\n",
            "Successfully installed python-igraph-0.7.1.post6\n",
            "Collecting louvain\n",
            "\u001b[?25l  Downloading https://files.pythonhosted.org/packages/51/bc/8cc9bb51a7fd9d13f37f2d904ee269971bccb1ab0eb06447a539af67f94c/louvain-0.6.1.tar.gz (84kB)\n",
            "\u001b[K     |████████████████████████████████| 92kB 4.0MB/s \n",
            "\u001b[?25hRequirement already satisfied: python-igraph>=0.7.1.0 in /usr/local/lib/python3.6/dist-packages (from louvain) (0.7.1.post6)\n",
            "Building wheels for collected packages: louvain\n",
            "  Building wheel for louvain (setup.py) ... \u001b[?25l\u001b[?25hdone\n",
            "  Created wheel for louvain: filename=louvain-0.6.1-cp36-cp36m-linux_x86_64.whl size=1026001 sha256=bc14e48d318f10fc3cbfed3e4106d847b758e2725be26dd9596a5b5889843f95\n",
            "  Stored in directory: /root/.cache/pip/wheels/f2/c3/d4/f7abaf064186d6214ef952bbb72fd6c5136d4b17dbeaeff481\n",
            "Successfully built louvain\n",
            "Installing collected packages: louvain\n",
            "Successfully installed louvain-0.6.1\n"
          ],
          "name": "stdout"
        }
      ]
    },
    {
      "cell_type": "code",
      "metadata": {
        "id": "0AuZ65hjYO42",
        "colab_type": "code",
        "colab": {}
      },
      "source": [
        "from igraph import *\n",
        "import numpy as np\n",
        "import pandas as pd\n",
        "import matplotlib.pyplot as plt\n",
        "%matplotlib inline"
      ],
      "execution_count": 0,
      "outputs": []
    },
    {
      "cell_type": "code",
      "metadata": {
        "id": "PnvLB6Tugabv",
        "colab_type": "code",
        "outputId": "fa5500fc-01e2-4b03-8c11-548437ebc1a8",
        "colab": {
          "base_uri": "https://localhost:8080/",
          "height": 204
        }
      },
      "source": [
        "articles = pd.read_csv('./articles.tsv', sep='\\t', skiprows=11, header=None).reset_index()\n",
        "articles.columns = ['index', 'article']\n",
        "art_to_id = articles.set_index('article')['index'].to_dict()\n",
        "id_to_art = articles.set_index('index')['article'].to_dict()\n",
        "articles.head()"
      ],
      "execution_count": 0,
      "outputs": [
        {
          "output_type": "execute_result",
          "data": {
            "text/html": [
              "<div>\n",
              "<style scoped>\n",
              "    .dataframe tbody tr th:only-of-type {\n",
              "        vertical-align: middle;\n",
              "    }\n",
              "\n",
              "    .dataframe tbody tr th {\n",
              "        vertical-align: top;\n",
              "    }\n",
              "\n",
              "    .dataframe thead th {\n",
              "        text-align: right;\n",
              "    }\n",
              "</style>\n",
              "<table border=\"1\" class=\"dataframe\">\n",
              "  <thead>\n",
              "    <tr style=\"text-align: right;\">\n",
              "      <th></th>\n",
              "      <th>index</th>\n",
              "      <th>article</th>\n",
              "    </tr>\n",
              "  </thead>\n",
              "  <tbody>\n",
              "    <tr>\n",
              "      <th>0</th>\n",
              "      <td>0</td>\n",
              "      <td>%C3%81ed%C3%A1n_mac_Gabr%C3%A1in</td>\n",
              "    </tr>\n",
              "    <tr>\n",
              "      <th>1</th>\n",
              "      <td>1</td>\n",
              "      <td>%C3%85land</td>\n",
              "    </tr>\n",
              "    <tr>\n",
              "      <th>2</th>\n",
              "      <td>2</td>\n",
              "      <td>%C3%89douard_Manet</td>\n",
              "    </tr>\n",
              "    <tr>\n",
              "      <th>3</th>\n",
              "      <td>3</td>\n",
              "      <td>%C3%89ire</td>\n",
              "    </tr>\n",
              "    <tr>\n",
              "      <th>4</th>\n",
              "      <td>4</td>\n",
              "      <td>%C3%93engus_I_of_the_Picts</td>\n",
              "    </tr>\n",
              "  </tbody>\n",
              "</table>\n",
              "</div>"
            ],
            "text/plain": [
              "   index                           article\n",
              "0      0  %C3%81ed%C3%A1n_mac_Gabr%C3%A1in\n",
              "1      1                        %C3%85land\n",
              "2      2                %C3%89douard_Manet\n",
              "3      3                         %C3%89ire\n",
              "4      4        %C3%93engus_I_of_the_Picts"
            ]
          },
          "metadata": {
            "tags": []
          },
          "execution_count": 64
        }
      ]
    },
    {
      "cell_type": "code",
      "metadata": {
        "id": "ODhn8rwMaCu6",
        "colab_type": "code",
        "outputId": "5a55e78e-2f3a-4eaa-f0b3-a7d706a4a1f4",
        "colab": {
          "base_uri": "https://localhost:8080/",
          "height": 514
        }
      },
      "source": [
        "df = pd.read_csv('./links.tsv', sep='\\t', skiprows=11, header=None)\n",
        "df['source'] = df[0].map(lambda x: art_to_id[x])\n",
        "df['target'] = df[1].map(lambda x: art_to_id[x])\n",
        "df.head(15)\n",
        "# df.where(df[0] == df[1]).dropna()"
      ],
      "execution_count": 0,
      "outputs": [
        {
          "output_type": "execute_result",
          "data": {
            "text/html": [
              "<div>\n",
              "<style scoped>\n",
              "    .dataframe tbody tr th:only-of-type {\n",
              "        vertical-align: middle;\n",
              "    }\n",
              "\n",
              "    .dataframe tbody tr th {\n",
              "        vertical-align: top;\n",
              "    }\n",
              "\n",
              "    .dataframe thead th {\n",
              "        text-align: right;\n",
              "    }\n",
              "</style>\n",
              "<table border=\"1\" class=\"dataframe\">\n",
              "  <thead>\n",
              "    <tr style=\"text-align: right;\">\n",
              "      <th></th>\n",
              "      <th>0</th>\n",
              "      <th>1</th>\n",
              "      <th>source</th>\n",
              "      <th>target</th>\n",
              "    </tr>\n",
              "  </thead>\n",
              "  <tbody>\n",
              "    <tr>\n",
              "      <th>0</th>\n",
              "      <td>%C3%81ed%C3%A1n_mac_Gabr%C3%A1in</td>\n",
              "      <td>Bede</td>\n",
              "      <td>0</td>\n",
              "      <td>530</td>\n",
              "    </tr>\n",
              "    <tr>\n",
              "      <th>1</th>\n",
              "      <td>%C3%81ed%C3%A1n_mac_Gabr%C3%A1in</td>\n",
              "      <td>Columba</td>\n",
              "      <td>0</td>\n",
              "      <td>974</td>\n",
              "    </tr>\n",
              "    <tr>\n",
              "      <th>2</th>\n",
              "      <td>%C3%81ed%C3%A1n_mac_Gabr%C3%A1in</td>\n",
              "      <td>D%C3%A1l_Riata</td>\n",
              "      <td>0</td>\n",
              "      <td>1115</td>\n",
              "    </tr>\n",
              "    <tr>\n",
              "      <th>3</th>\n",
              "      <td>%C3%81ed%C3%A1n_mac_Gabr%C3%A1in</td>\n",
              "      <td>Great_Britain</td>\n",
              "      <td>0</td>\n",
              "      <td>1772</td>\n",
              "    </tr>\n",
              "    <tr>\n",
              "      <th>4</th>\n",
              "      <td>%C3%81ed%C3%A1n_mac_Gabr%C3%A1in</td>\n",
              "      <td>Ireland</td>\n",
              "      <td>0</td>\n",
              "      <td>2149</td>\n",
              "    </tr>\n",
              "    <tr>\n",
              "      <th>5</th>\n",
              "      <td>%C3%81ed%C3%A1n_mac_Gabr%C3%A1in</td>\n",
              "      <td>Isle_of_Man</td>\n",
              "      <td>0</td>\n",
              "      <td>2173</td>\n",
              "    </tr>\n",
              "    <tr>\n",
              "      <th>6</th>\n",
              "      <td>%C3%81ed%C3%A1n_mac_Gabr%C3%A1in</td>\n",
              "      <td>Monarchy</td>\n",
              "      <td>0</td>\n",
              "      <td>2815</td>\n",
              "    </tr>\n",
              "    <tr>\n",
              "      <th>7</th>\n",
              "      <td>%C3%81ed%C3%A1n_mac_Gabr%C3%A1in</td>\n",
              "      <td>Orkney</td>\n",
              "      <td>0</td>\n",
              "      <td>3098</td>\n",
              "    </tr>\n",
              "    <tr>\n",
              "      <th>8</th>\n",
              "      <td>%C3%81ed%C3%A1n_mac_Gabr%C3%A1in</td>\n",
              "      <td>Picts</td>\n",
              "      <td>0</td>\n",
              "      <td>3248</td>\n",
              "    </tr>\n",
              "    <tr>\n",
              "      <th>9</th>\n",
              "      <td>%C3%81ed%C3%A1n_mac_Gabr%C3%A1in</td>\n",
              "      <td>Scotland</td>\n",
              "      <td>0</td>\n",
              "      <td>3654</td>\n",
              "    </tr>\n",
              "    <tr>\n",
              "      <th>10</th>\n",
              "      <td>%C3%81ed%C3%A1n_mac_Gabr%C3%A1in</td>\n",
              "      <td>Wales</td>\n",
              "      <td>0</td>\n",
              "      <td>4396</td>\n",
              "    </tr>\n",
              "    <tr>\n",
              "      <th>11</th>\n",
              "      <td>%C3%85land</td>\n",
              "      <td>20th_century</td>\n",
              "      <td>1</td>\n",
              "      <td>38</td>\n",
              "    </tr>\n",
              "    <tr>\n",
              "      <th>12</th>\n",
              "      <td>%C3%85land</td>\n",
              "      <td>Baltic_Sea</td>\n",
              "      <td>1</td>\n",
              "      <td>448</td>\n",
              "    </tr>\n",
              "    <tr>\n",
              "      <th>13</th>\n",
              "      <td>%C3%85land</td>\n",
              "      <td>Crimean_War</td>\n",
              "      <td>1</td>\n",
              "      <td>1074</td>\n",
              "    </tr>\n",
              "    <tr>\n",
              "      <th>14</th>\n",
              "      <td>%C3%85land</td>\n",
              "      <td>Currency</td>\n",
              "      <td>1</td>\n",
              "      <td>1101</td>\n",
              "    </tr>\n",
              "  </tbody>\n",
              "</table>\n",
              "</div>"
            ],
            "text/plain": [
              "                                   0               1  source  target\n",
              "0   %C3%81ed%C3%A1n_mac_Gabr%C3%A1in            Bede       0     530\n",
              "1   %C3%81ed%C3%A1n_mac_Gabr%C3%A1in         Columba       0     974\n",
              "2   %C3%81ed%C3%A1n_mac_Gabr%C3%A1in  D%C3%A1l_Riata       0    1115\n",
              "3   %C3%81ed%C3%A1n_mac_Gabr%C3%A1in   Great_Britain       0    1772\n",
              "4   %C3%81ed%C3%A1n_mac_Gabr%C3%A1in         Ireland       0    2149\n",
              "5   %C3%81ed%C3%A1n_mac_Gabr%C3%A1in     Isle_of_Man       0    2173\n",
              "6   %C3%81ed%C3%A1n_mac_Gabr%C3%A1in        Monarchy       0    2815\n",
              "7   %C3%81ed%C3%A1n_mac_Gabr%C3%A1in          Orkney       0    3098\n",
              "8   %C3%81ed%C3%A1n_mac_Gabr%C3%A1in           Picts       0    3248\n",
              "9   %C3%81ed%C3%A1n_mac_Gabr%C3%A1in        Scotland       0    3654\n",
              "10  %C3%81ed%C3%A1n_mac_Gabr%C3%A1in           Wales       0    4396\n",
              "11                        %C3%85land    20th_century       1      38\n",
              "12                        %C3%85land      Baltic_Sea       1     448\n",
              "13                        %C3%85land     Crimean_War       1    1074\n",
              "14                        %C3%85land        Currency       1    1101"
            ]
          },
          "metadata": {
            "tags": []
          },
          "execution_count": 65
        }
      ]
    },
    {
      "cell_type": "code",
      "metadata": {
        "id": "ijDt-y7MiYXN",
        "colab_type": "code",
        "outputId": "89ba1405-1449-441b-817e-5521ebf22609",
        "colab": {
          "base_uri": "https://localhost:8080/",
          "height": 68
        }
      },
      "source": [
        "tuples = [tuple(x) for x in df[[0, 1]].values]\n",
        "# tuples = [tuple(x) for x in df[['source', 'target']].values]\n",
        "my_graph = Graph.TupleList(tuples, directed = True)\n",
        "# my_graph.simplify()\n",
        "\n",
        "er_graph = Graph.Erdos_Renyi(my_graph.vcount(), m=my_graph.ecount(), directed = True)\n",
        "print(my_graph.has_multiple()) # graph does not have multi edges\n",
        "print(np.alltrue(~np.array(my_graph.is_loop()))) # but it has loops\n",
        "print(my_graph.is_connected()) # and is disconnected"
      ],
      "execution_count": 0,
      "outputs": [
        {
          "output_type": "stream",
          "text": [
            "False\n",
            "False\n",
            "False\n"
          ],
          "name": "stdout"
        }
      ]
    },
    {
      "cell_type": "code",
      "metadata": {
        "id": "c6gs5npryOdm",
        "colab_type": "code",
        "outputId": "db35c78c-61f9-41fd-f6e0-be4e8622148f",
        "colab": {
          "base_uri": "https://localhost:8080/",
          "height": 34
        }
      },
      "source": [
        "isolated_nodes = set.difference(set(articles['article']), set(my_graph.vs['name']))\n",
        "len(isolated_nodes)\n",
        "my_graph.add_vertices(isolated_nodes)\n",
        "my_graph.vcount()\n",
        "# wiki_graph.add_nodes_from(isolated_nodes)\n",
        "# len(wiki_graph.nodes())"
      ],
      "execution_count": 0,
      "outputs": [
        {
          "output_type": "execute_result",
          "data": {
            "text/plain": [
              "4604"
            ]
          },
          "metadata": {
            "tags": []
          },
          "execution_count": 73
        }
      ]
    },
    {
      "cell_type": "markdown",
      "metadata": {
        "id": "TvAwgttFYJKA",
        "colab_type": "text"
      },
      "source": [
        "## Basic characteristics"
      ]
    },
    {
      "cell_type": "code",
      "metadata": {
        "id": "glmWfA9uX0RS",
        "colab_type": "code",
        "outputId": "89f75a6d-1a5c-4b74-b9b4-7633c865af50",
        "colab": {
          "base_uri": "https://localhost:8080/",
          "height": 34
        }
      },
      "source": [
        "print(\"Graphs node count: \", my_graph.vcount(), \", edge count: \", my_graph.ecount())"
      ],
      "execution_count": 0,
      "outputs": [
        {
          "output_type": "stream",
          "text": [
            "Graphs node count:  4592 , edge count:  119882\n"
          ],
          "name": "stdout"
        }
      ]
    },
    {
      "cell_type": "code",
      "metadata": {
        "id": "gPGSUOgCcD9z",
        "colab_type": "code",
        "outputId": "efd11bc8-9d62-4653-a1a3-ce566c888527",
        "colab": {
          "base_uri": "https://localhost:8080/",
          "height": 51
        }
      },
      "source": [
        "#Avg degree\n",
        "\n",
        "print(\"My graph average degree: \", np.mean(my_graph.degree()))\n",
        "print(\"Erdos-Renyi average degree: \", np.mean(er_graph.degree()))"
      ],
      "execution_count": 0,
      "outputs": [
        {
          "output_type": "stream",
          "text": [
            "My graph average degree:  52.21341463414634\n",
            "Erdos-Renyi average degree:  52.21341463414634\n"
          ],
          "name": "stdout"
        }
      ]
    },
    {
      "cell_type": "code",
      "metadata": {
        "id": "wn8DMt33qxSb",
        "colab_type": "code",
        "outputId": "f351d51f-0fca-41f8-fddf-56f426cd8856",
        "colab": {
          "base_uri": "https://localhost:8080/",
          "height": 85
        }
      },
      "source": [
        "#Avg indegree and outdegree\n",
        "\n",
        "print(\"My graph average indegree: \", np.mean(my_graph.indegree()))\n",
        "print(\"Erdos-Renyi average indegree: \", np.mean(er_graph.indegree()))\n",
        "\n",
        "print(\"My graph average outdegree: \", np.mean(my_graph.outdegree()))\n",
        "print(\"Erdos-Renyi average outdegree: \", np.mean(er_graph.outdegree()))"
      ],
      "execution_count": 0,
      "outputs": [
        {
          "output_type": "stream",
          "text": [
            "My graph average indegree:  26.10670731707317\n",
            "Erdos-Renyi average indegree:  26.10670731707317\n",
            "My graph average outdegree:  26.10670731707317\n",
            "Erdos-Renyi average outdegree:  26.10670731707317\n"
          ],
          "name": "stdout"
        }
      ]
    },
    {
      "cell_type": "code",
      "metadata": {
        "id": "aYh6FuSNcQsB",
        "colab_type": "code",
        "outputId": "a9ae0c70-1f1c-4c79-fd6a-00c41df25673",
        "colab": {
          "base_uri": "https://localhost:8080/",
          "height": 51
        }
      },
      "source": [
        "#Min degree\n",
        "\n",
        "print(\"My graph min degree: \", np.min(my_graph.degree()))\n",
        "print(\"Erdos-Renyi min degree: \", np.min(er_graph.degree()))"
      ],
      "execution_count": 0,
      "outputs": [
        {
          "output_type": "stream",
          "text": [
            "My graph min degree:  1\n",
            "Erdos-Renyi min degree:  29\n"
          ],
          "name": "stdout"
        }
      ]
    },
    {
      "cell_type": "code",
      "metadata": {
        "id": "eFRa_JUys90K",
        "colab_type": "code",
        "outputId": "faf13e08-790d-40b0-80ec-d847a310efd4",
        "colab": {
          "base_uri": "https://localhost:8080/",
          "height": 85
        }
      },
      "source": [
        "#Min indegree and outdegree\n",
        "\n",
        "print(\"My graph min indegree: \", np.min(my_graph.indegree()))\n",
        "print(\"Erdos-Renyi min indegree: \", np.min(er_graph.indegree()))\n",
        "\n",
        "print(\"My graph min outdegree: \", np.min(my_graph.outdegree()))\n",
        "print(\"Erdos-Renyi min outdegree: \", np.min(er_graph.outdegree()))"
      ],
      "execution_count": 0,
      "outputs": [
        {
          "output_type": "stream",
          "text": [
            "My graph min indegree:  0\n",
            "Erdos-Renyi min indegree:  7\n",
            "My graph min outdegree:  0\n",
            "Erdos-Renyi min outdegree:  10\n"
          ],
          "name": "stdout"
        }
      ]
    },
    {
      "cell_type": "code",
      "metadata": {
        "id": "upnqgNy0eBQ1",
        "colab_type": "code",
        "outputId": "187d757e-9b35-4e36-dac3-c03edc79423b",
        "colab": {
          "base_uri": "https://localhost:8080/",
          "height": 51
        }
      },
      "source": [
        "#Max degree\n",
        "\n",
        "print(\"My graph max degree: \", np.max(my_graph.degree()))\n",
        "print(\"Erdos-Renyi max degree: \", np.max(er_graph.degree()))"
      ],
      "execution_count": 0,
      "outputs": [
        {
          "output_type": "stream",
          "text": [
            "My graph max degree:  1845\n",
            "Erdos-Renyi max degree:  80\n"
          ],
          "name": "stdout"
        }
      ]
    },
    {
      "cell_type": "code",
      "metadata": {
        "id": "p21WAND8tP_V",
        "colab_type": "code",
        "outputId": "6b9f6237-8854-4f8c-a154-a05b9fb8a5c0",
        "colab": {
          "base_uri": "https://localhost:8080/",
          "height": 85
        }
      },
      "source": [
        "#Max indegree and outdegree\n",
        "\n",
        "print(\"My graph max indegree: \", np.max(my_graph.indegree()))\n",
        "print(\"Erdos-Renyi max indegree: \", np.max(er_graph.indegree()))\n",
        "\n",
        "print(\"My graph max outdegree: \", np.max(my_graph.outdegree()))\n",
        "print(\"Erdos-Renyi max outdegree: \", np.max(er_graph.outdegree()))"
      ],
      "execution_count": 0,
      "outputs": [
        {
          "output_type": "stream",
          "text": [
            "My graph max indegree:  1551\n",
            "Erdos-Renyi max indegree:  46\n",
            "My graph max outdegree:  294\n",
            "Erdos-Renyi max outdegree:  47\n"
          ],
          "name": "stdout"
        }
      ]
    },
    {
      "cell_type": "code",
      "metadata": {
        "id": "YshxRglvfAlw",
        "colab_type": "code",
        "outputId": "96e58b9f-5ad2-4f29-96fe-8969b2e29db8",
        "colab": {
          "base_uri": "https://localhost:8080/",
          "height": 217
        }
      },
      "source": [
        "# np.mean(my_graph.knn())\n",
        "my_graph.knn()\n",
        "# print(\"My graph average nearest neighbor degree: \", np.mean(my_graph.knn()))\n",
        "# print(\"Erdos-Renyi nearest neighbor degree: \", np.mean(er_graph.knn()))"
      ],
      "execution_count": 0,
      "outputs": [
        {
          "output_type": "error",
          "ename": "InternalError",
          "evalue": "ignored",
          "traceback": [
            "\u001b[0;31m---------------------------------------------------------------------------\u001b[0m",
            "\u001b[0;31mInternalError\u001b[0m                             Traceback (most recent call last)",
            "\u001b[0;32m<ipython-input-15-38f871e3bdf1>\u001b[0m in \u001b[0;36m<module>\u001b[0;34m()\u001b[0m\n\u001b[0;32m----> 1\u001b[0;31m \u001b[0mmy_graph\u001b[0m\u001b[0;34m.\u001b[0m\u001b[0mknn\u001b[0m\u001b[0;34m(\u001b[0m\u001b[0;34m)\u001b[0m\u001b[0;34m\u001b[0m\u001b[0;34m\u001b[0m\u001b[0m\n\u001b[0m\u001b[1;32m      2\u001b[0m \u001b[0;31m# print(\"My graph average nearest neighbor degree: \", np.mean(my_graph.knn()))\u001b[0m\u001b[0;34m\u001b[0m\u001b[0;34m\u001b[0m\u001b[0;34m\u001b[0m\u001b[0m\n\u001b[1;32m      3\u001b[0m \u001b[0;31m# print(\"Erdos-Renyi nearest neighbor degree: \", np.mean(er_graph.knn()))\u001b[0m\u001b[0;34m\u001b[0m\u001b[0;34m\u001b[0m\u001b[0;34m\u001b[0m\u001b[0m\n",
            "\u001b[0;31mInternalError\u001b[0m: Error at structural_properties.c:5784: Average nearest neighbor degree Works only with simple graphs, Invalid value"
          ]
        }
      ]
    },
    {
      "cell_type": "code",
      "metadata": {
        "id": "EXGYrQkrf0uQ",
        "colab_type": "code",
        "outputId": "b4a6e93a-09f8-4611-c24e-60cca161ac24",
        "colab": {
          "base_uri": "https://localhost:8080/",
          "height": 34
        }
      },
      "source": [
        "np.sum(my_graph.degree(my_graph.neighbors(1))) / len(my_graph.neighbors(1))"
      ],
      "execution_count": 0,
      "outputs": [
        {
          "output_type": "execute_result",
          "data": {
            "text/plain": [
              "115.64102564102564"
            ]
          },
          "metadata": {
            "tags": []
          },
          "execution_count": 13
        }
      ]
    },
    {
      "cell_type": "code",
      "metadata": {
        "id": "Vsrj-8lGaWeq",
        "colab_type": "code",
        "outputId": "26ca4d5e-c377-4077-dd95-b2426c1bfbea",
        "colab": {
          "base_uri": "https://localhost:8080/",
          "height": 51
        }
      },
      "source": [
        "print(\"My graph degree assortativity coefficient: \", my_graph.assortativity_degree())\n",
        "print(\"Erdos-Renyi degree assortativity coefficient: \", er_graph.assortativity_degree())"
      ],
      "execution_count": 0,
      "outputs": [
        {
          "output_type": "stream",
          "text": [
            "My graph degree assortativity coefficient:  -0.05620919781872144\n",
            "Erdos-Renyi degree assortativity coefficient:  0.0010859129169577513\n"
          ],
          "name": "stdout"
        }
      ]
    },
    {
      "cell_type": "code",
      "metadata": {
        "id": "G0rePNoSv1rH",
        "colab_type": "code",
        "colab": {}
      },
      "source": [
        "paths_lengths = my_graph.shortest_paths()"
      ],
      "execution_count": 0,
      "outputs": []
    },
    {
      "cell_type": "code",
      "metadata": {
        "id": "3kIPhrHysgGT",
        "colab_type": "code",
        "outputId": "4d91d68b-b4ab-4774-afa9-db2982d8f099",
        "colab": {
          "base_uri": "https://localhost:8080/",
          "height": 34
        }
      },
      "source": [
        "my_graph.average_path_length()"
      ],
      "execution_count": 0,
      "outputs": [
        {
          "output_type": "execute_result",
          "data": {
            "text/plain": [
              "3.202522563331053"
            ]
          },
          "metadata": {
            "tags": []
          },
          "execution_count": 8
        }
      ]
    },
    {
      "cell_type": "code",
      "metadata": {
        "id": "Cx5cqw3StARu",
        "colab_type": "code",
        "outputId": "98743f46-1982-4f69-e19a-02fe1e666208",
        "colab": {
          "base_uri": "https://localhost:8080/",
          "height": 34
        }
      },
      "source": [
        "my_graph.average_path_length()"
      ],
      "execution_count": 0,
      "outputs": [
        {
          "output_type": "execute_result",
          "data": {
            "text/plain": [
              "545.981416925404"
            ]
          },
          "metadata": {
            "tags": []
          },
          "execution_count": 11
        }
      ]
    },
    {
      "cell_type": "code",
      "metadata": {
        "id": "Su2IdI7Xv6AY",
        "colab_type": "code",
        "outputId": "6f9d08e4-1cca-4355-be63-97907d137803",
        "colab": {
          "base_uri": "https://localhost:8080/",
          "height": 34
        }
      },
      "source": [
        "paths_lengths = np.array(paths_lengths)\n",
        "paths_lengths[paths_lengths==np.inf] = 0\n",
        "\n",
        "avg_shortest_path_len = np.sum(paths_lengths[paths_lengths > 0]) / len(paths_lengths[paths_lengths > 0])\n",
        "\n",
        "print(\"My graph average shortest path length: \", avg_shortest_path_len)"
      ],
      "execution_count": 0,
      "outputs": [
        {
          "output_type": "stream",
          "text": [
            "My graph average shortest path length:  3.202522563331053\n"
          ],
          "name": "stdout"
        }
      ]
    },
    {
      "cell_type": "code",
      "metadata": {
        "id": "2lP_EOT3v-D4",
        "colab_type": "code",
        "colab": {}
      },
      "source": [
        "er_paths_lengths = er_graph.shortest_paths()"
      ],
      "execution_count": 0,
      "outputs": []
    },
    {
      "cell_type": "code",
      "metadata": {
        "id": "22qmnrwO1ja-",
        "colab_type": "code",
        "outputId": "501ae9fb-e477-48bb-8d95-020e1b02e09e",
        "colab": {
          "base_uri": "https://localhost:8080/",
          "height": 34
        }
      },
      "source": [
        "er_paths_lengths = np.array(er_paths_lengths, dtype=np.float32)\n",
        "er_paths_lengths[er_paths_lengths==np.inf] = 0\n",
        "\n",
        "er_avg_shortest_path_len = np.sum(er_paths_lengths[er_paths_lengths > 0]) / len(er_paths_lengths[er_paths_lengths > 0])\n",
        "print(\"Erdos-Renyi average shortest path length: \", er_avg_shortest_path_len)"
      ],
      "execution_count": 0,
      "outputs": [
        {
          "output_type": "stream",
          "text": [
            "Erdos-Renyi average shortest path length:  2.8812052364230274\n"
          ],
          "name": "stdout"
        }
      ]
    },
    {
      "cell_type": "code",
      "metadata": {
        "id": "VLWVaWQQ1wRo",
        "colab_type": "code",
        "outputId": "f963095f-f6d2-448f-adcc-4a150506e3ff",
        "colab": {
          "base_uri": "https://localhost:8080/",
          "height": 187
        }
      },
      "source": [
        "my_diameter = my_graph.get_diameter()\n",
        "my_graph.vs[my_diameter]['name']"
      ],
      "execution_count": 0,
      "outputs": [
        {
          "output_type": "execute_result",
          "data": {
            "text/plain": [
              "['Scheme_programming_language',\n",
              " 'Functional_programming',\n",
              " 'Calculus',\n",
              " '10th_century',\n",
              " 'Sweden',\n",
              " 'Tennis',\n",
              " 'Boris_Becker',\n",
              " 'Hopman_Cup',\n",
              " 'Argyle_diamond_mine',\n",
              " 'Rio_Tinto_Group']"
            ]
          },
          "metadata": {
            "tags": []
          },
          "execution_count": 33
        }
      ]
    },
    {
      "cell_type": "code",
      "metadata": {
        "id": "WTQGPFDh2OCE",
        "colab_type": "code",
        "outputId": "6f0deb75-db5e-40ce-ec6e-cb95ee8ace4d",
        "colab": {
          "base_uri": "https://localhost:8080/",
          "height": 34
        }
      },
      "source": [
        "er_graph.get_diameter()"
      ],
      "execution_count": 0,
      "outputs": [
        {
          "output_type": "execute_result",
          "data": {
            "text/plain": [
              "[0, 573, 146, 518, 4151]"
            ]
          },
          "metadata": {
            "tags": []
          },
          "execution_count": 35
        }
      ]
    },
    {
      "cell_type": "code",
      "metadata": {
        "id": "MqClfFSQ2SK3",
        "colab_type": "code",
        "outputId": "0b6dfcee-e4e9-4eff-893d-4e9ce4431fea",
        "colab": {
          "base_uri": "https://localhost:8080/",
          "height": 51
        }
      },
      "source": [
        "print(\"My graph diameter: \", np.max(paths_lengths))\n",
        "print(\"Erdos-Renyi diameter: \", np.max(er_paths_lengths))"
      ],
      "execution_count": 0,
      "outputs": [
        {
          "output_type": "stream",
          "text": [
            "My graph diameter:  9.0\n",
            "Erdos-Renyi diameter:  4.0\n"
          ],
          "name": "stdout"
        }
      ]
    },
    {
      "cell_type": "code",
      "metadata": {
        "id": "EMpnAf-u286t",
        "colab_type": "code",
        "outputId": "6b553f60-6fbf-47aa-9474-432b781281e8",
        "colab": {
          "base_uri": "https://localhost:8080/",
          "height": 51
        }
      },
      "source": [
        "my_gcc = my_graph.clusters(mode='strong').giant()\n",
        "er_gcc = er_graph.clusters(mode='strong').giant()\n",
        "\n",
        "print(\"My graph GCC size: \", my_gcc.vcount(), \", percent of whole graph: \", np.rint(my_gcc.vcount() / my_graph.vcount() * 100), \"%\")\n",
        "print(\"Erdos-Renyi GCC size: \", er_gcc.vcount(), \", percent of whole graph: \", np.rint(er_gcc.vcount() / er_graph.vcount() * 100), \"%\")"
      ],
      "execution_count": 0,
      "outputs": [
        {
          "output_type": "stream",
          "text": [
            "My graph GCC size:  4051 , percent of whole graph:  88.0 %\n",
            "Erdos-Renyi GCC size:  4592 , percent of whole graph:  100.0 %\n"
          ],
          "name": "stdout"
        }
      ]
    },
    {
      "cell_type": "code",
      "metadata": {
        "id": "CWFHfu-WgTNk",
        "colab_type": "code",
        "outputId": "2af598c1-527c-4c0d-9320-254d629c0076",
        "colab": {
          "base_uri": "https://localhost:8080/",
          "height": 1000
        }
      },
      "source": [
        "print(\"My graph cluster count: \", len(my_graph.clusters().subgraphs()))\n",
        "print(\"Erdo-Renyi cluster count: \", len(er_graph.clusters().subgraphs()))\n",
        "\n",
        "for g in my_graph.clusters().subgraphs():\n",
        "  print(g.vcount())"
      ],
      "execution_count": 0,
      "outputs": [
        {
          "output_type": "stream",
          "text": [
            "My graph cluster count:  519\n",
            "Erdo-Renyi cluster count:  1\n",
            "1\n",
            "1\n",
            "1\n",
            "1\n",
            "1\n",
            "1\n",
            "1\n",
            "1\n",
            "1\n",
            "1\n",
            "1\n",
            "1\n",
            "1\n",
            "1\n",
            "1\n",
            "1\n",
            "1\n",
            "1\n",
            "1\n",
            "1\n",
            "1\n",
            "1\n",
            "1\n",
            "1\n",
            "1\n",
            "1\n",
            "1\n",
            "1\n",
            "1\n",
            "1\n",
            "1\n",
            "1\n",
            "1\n",
            "1\n",
            "1\n",
            "1\n",
            "1\n",
            "1\n",
            "1\n",
            "2\n",
            "1\n",
            "1\n",
            "1\n",
            "1\n",
            "1\n",
            "1\n",
            "1\n",
            "1\n",
            "1\n",
            "1\n",
            "1\n",
            "1\n",
            "1\n",
            "1\n",
            "1\n",
            "1\n",
            "1\n",
            "1\n",
            "1\n",
            "1\n",
            "1\n",
            "1\n",
            "1\n",
            "1\n",
            "1\n",
            "1\n",
            "1\n",
            "1\n",
            "1\n",
            "1\n",
            "1\n",
            "1\n",
            "1\n",
            "1\n",
            "1\n",
            "1\n",
            "1\n",
            "1\n",
            "1\n",
            "1\n",
            "1\n",
            "1\n",
            "1\n",
            "1\n",
            "1\n",
            "1\n",
            "1\n",
            "1\n",
            "1\n",
            "1\n",
            "1\n",
            "1\n",
            "1\n",
            "1\n",
            "1\n",
            "1\n",
            "1\n",
            "1\n",
            "1\n",
            "1\n",
            "1\n",
            "1\n",
            "1\n",
            "1\n",
            "1\n",
            "1\n",
            "1\n",
            "1\n",
            "1\n",
            "1\n",
            "1\n",
            "1\n",
            "1\n",
            "1\n",
            "1\n",
            "1\n",
            "1\n",
            "1\n",
            "1\n",
            "1\n",
            "1\n",
            "1\n",
            "1\n",
            "1\n",
            "1\n",
            "1\n",
            "1\n",
            "1\n",
            "1\n",
            "1\n",
            "1\n",
            "1\n",
            "1\n",
            "1\n",
            "1\n",
            "1\n",
            "1\n",
            "1\n",
            "1\n",
            "1\n",
            "1\n",
            "1\n",
            "1\n",
            "1\n",
            "1\n",
            "1\n",
            "1\n",
            "1\n",
            "1\n",
            "1\n",
            "1\n",
            "1\n",
            "1\n",
            "1\n",
            "1\n",
            "1\n",
            "1\n",
            "1\n",
            "1\n",
            "1\n",
            "1\n",
            "1\n",
            "1\n",
            "1\n",
            "1\n",
            "1\n",
            "1\n",
            "1\n",
            "1\n",
            "1\n",
            "1\n",
            "1\n",
            "1\n",
            "1\n",
            "1\n",
            "1\n",
            "1\n",
            "1\n",
            "1\n",
            "1\n",
            "1\n",
            "1\n",
            "1\n",
            "1\n",
            "1\n",
            "1\n",
            "1\n",
            "1\n",
            "1\n",
            "1\n",
            "1\n",
            "1\n",
            "1\n",
            "1\n",
            "1\n",
            "1\n",
            "1\n",
            "1\n",
            "1\n",
            "1\n",
            "1\n",
            "1\n",
            "1\n",
            "1\n",
            "1\n",
            "1\n",
            "1\n",
            "6\n",
            "1\n",
            "2\n",
            "1\n",
            "1\n",
            "1\n",
            "1\n",
            "1\n",
            "1\n",
            "1\n",
            "1\n",
            "1\n",
            "1\n",
            "2\n",
            "1\n",
            "1\n",
            "1\n",
            "1\n",
            "1\n",
            "1\n",
            "2\n",
            "1\n",
            "1\n",
            "1\n",
            "1\n",
            "2\n",
            "1\n",
            "1\n",
            "1\n",
            "2\n",
            "1\n",
            "1\n",
            "1\n",
            "1\n",
            "1\n",
            "1\n",
            "1\n",
            "1\n",
            "1\n",
            "1\n",
            "1\n",
            "1\n",
            "1\n",
            "1\n",
            "1\n",
            "1\n",
            "1\n",
            "2\n",
            "1\n",
            "1\n",
            "1\n",
            "1\n",
            "1\n",
            "2\n",
            "1\n",
            "1\n",
            "1\n",
            "1\n",
            "1\n",
            "1\n",
            "1\n",
            "1\n",
            "1\n",
            "1\n",
            "1\n",
            "1\n",
            "2\n",
            "1\n",
            "1\n",
            "1\n",
            "1\n",
            "1\n",
            "1\n",
            "1\n",
            "1\n",
            "1\n",
            "1\n",
            "1\n",
            "1\n",
            "1\n",
            "1\n",
            "1\n",
            "1\n",
            "2\n",
            "3\n",
            "1\n",
            "1\n",
            "1\n",
            "1\n",
            "1\n",
            "1\n",
            "1\n",
            "1\n",
            "1\n",
            "1\n",
            "1\n",
            "1\n",
            "1\n",
            "1\n",
            "1\n",
            "1\n",
            "1\n",
            "1\n",
            "1\n",
            "1\n",
            "1\n",
            "1\n",
            "1\n",
            "1\n",
            "1\n",
            "1\n",
            "1\n",
            "1\n",
            "1\n",
            "1\n",
            "1\n",
            "1\n",
            "1\n",
            "1\n",
            "1\n",
            "1\n",
            "1\n",
            "1\n",
            "1\n",
            "2\n",
            "1\n",
            "1\n",
            "1\n",
            "1\n",
            "1\n",
            "1\n",
            "1\n",
            "1\n",
            "1\n",
            "1\n",
            "1\n",
            "1\n",
            "1\n",
            "1\n",
            "1\n",
            "1\n",
            "1\n",
            "1\n",
            "1\n",
            "1\n",
            "1\n",
            "1\n",
            "1\n",
            "1\n",
            "1\n",
            "1\n",
            "1\n",
            "1\n",
            "1\n",
            "1\n",
            "1\n",
            "1\n",
            "1\n",
            "1\n",
            "1\n",
            "1\n",
            "1\n",
            "1\n",
            "1\n",
            "1\n",
            "1\n",
            "1\n",
            "1\n",
            "1\n",
            "1\n",
            "1\n",
            "1\n",
            "1\n",
            "1\n",
            "1\n",
            "1\n",
            "1\n",
            "1\n",
            "2\n",
            "1\n",
            "1\n",
            "1\n",
            "1\n",
            "1\n",
            "1\n",
            "1\n",
            "1\n",
            "1\n",
            "1\n",
            "1\n",
            "1\n",
            "1\n",
            "1\n",
            "1\n",
            "1\n",
            "1\n",
            "1\n",
            "1\n",
            "1\n",
            "1\n",
            "1\n",
            "1\n",
            "1\n",
            "1\n",
            "1\n",
            "1\n",
            "1\n",
            "2\n",
            "1\n",
            "1\n",
            "1\n",
            "1\n",
            "1\n",
            "1\n",
            "1\n",
            "1\n",
            "1\n",
            "1\n",
            "1\n",
            "1\n",
            "1\n",
            "1\n",
            "1\n",
            "1\n",
            "1\n",
            "1\n",
            "1\n",
            "1\n",
            "1\n",
            "1\n",
            "1\n",
            "1\n",
            "1\n",
            "1\n",
            "1\n",
            "2\n",
            "1\n",
            "1\n",
            "1\n",
            "1\n",
            "1\n",
            "1\n",
            "1\n",
            "2\n",
            "1\n",
            "1\n",
            "1\n",
            "1\n",
            "1\n",
            "1\n",
            "1\n",
            "1\n",
            "1\n",
            "1\n",
            "1\n",
            "1\n",
            "1\n",
            "1\n",
            "1\n",
            "1\n",
            "1\n",
            "1\n",
            "1\n",
            "1\n",
            "1\n",
            "1\n",
            "1\n",
            "1\n",
            "1\n",
            "1\n",
            "1\n",
            "1\n",
            "1\n",
            "2\n",
            "1\n",
            "1\n",
            "1\n",
            "1\n",
            "1\n",
            "1\n",
            "1\n",
            "1\n",
            "1\n",
            "1\n",
            "1\n",
            "1\n",
            "1\n",
            "1\n",
            "1\n",
            "1\n",
            "1\n",
            "1\n",
            "1\n",
            "1\n",
            "1\n",
            "1\n",
            "1\n",
            "1\n",
            "1\n",
            "1\n",
            "1\n",
            "1\n",
            "1\n",
            "1\n",
            "1\n",
            "1\n",
            "1\n",
            "4051\n",
            "1\n",
            "1\n",
            "1\n",
            "1\n"
          ],
          "name": "stdout"
        }
      ]
    },
    {
      "cell_type": "markdown",
      "metadata": {
        "id": "wm1aVbvln2RG",
        "colab_type": "text"
      },
      "source": [
        "Almost all other clusters are in fact isolated vertices."
      ]
    },
    {
      "cell_type": "code",
      "metadata": {
        "id": "bpBoOQAQddiS",
        "colab_type": "code",
        "outputId": "092cffd1-0f62-4018-86d8-8075e7f52f32",
        "colab": {
          "base_uri": "https://localhost:8080/",
          "height": 51
        }
      },
      "source": [
        "# Local clustering coefficient for directed graph\n",
        "my_trans = np.array(my_graph.transitivity_local_undirected(mode='nan')) / 2\n",
        "my_cluster_coef = np.mean(my_trans[np.logical_not(np.isnan(my_trans))]) \n",
        "\n",
        "er_trans = np.array(er_graph.transitivity_local_undirected(mode='nan')) / 2\n",
        "er_cluster_coef = np.mean(er_trans[np.logical_not(np.isnan(er_trans))])\n",
        "\n",
        "# library implementations which differ\n",
        "#my_graph.transitivity_avglocal_undirected(mode='nan') / 2\n",
        "#er_graph.transitivity_avglocal_undirected(mode='nan') / 2\n",
        "\n",
        "print(\"My graph average local clustering coefficient: \", my_cluster_coef)\n",
        "print(\"Erdos-Renyi average local clustering coefficient: \", er_cluster_coef)"
      ],
      "execution_count": 0,
      "outputs": [
        {
          "output_type": "stream",
          "text": [
            "My graph average local clustering coefficient:  0.11134492596939381\n",
            "Erdos-Renyi average local clustering coefficient:  0.005663794023591778\n"
          ],
          "name": "stdout"
        }
      ]
    },
    {
      "cell_type": "code",
      "metadata": {
        "id": "I3vRT6rXeYbC",
        "colab_type": "code",
        "outputId": "ad691ace-7c07-49f2-b9ba-1acb0567cfb3",
        "colab": {
          "base_uri": "https://localhost:8080/",
          "height": 51
        }
      },
      "source": [
        "print(\"My graph global clustering coeficient: \", my_graph.transitivity_undirected())\n",
        "print(\"Erdos-Renyi global clustering coeficient: \",  er_graph.transitivity_undirected())"
      ],
      "execution_count": 0,
      "outputs": [
        {
          "output_type": "stream",
          "text": [
            "My graph global clustering coeficient:  0.10294055595572603\n",
            "Erdos-Renyi global clustering coeficient:  0.011393241712079052\n"
          ],
          "name": "stdout"
        }
      ]
    },
    {
      "cell_type": "code",
      "metadata": {
        "id": "CQw05ehQjjIr",
        "colab_type": "code",
        "outputId": "38c70e11-29c0-4573-ab94-a72b97c9adad",
        "colab": {
          "base_uri": "https://localhost:8080/",
          "height": 51
        }
      },
      "source": [
        "print(\"My graph average betweenness centrality: \", np.mean(my_graph.betweenness()))\n",
        "print(\"Erdos-Renyi average betweenness centrality: \", np.mean(er_graph.betweenness()))"
      ],
      "execution_count": 0,
      "outputs": [
        {
          "output_type": "stream",
          "text": [
            "My graph average betweenness centrality:  8915.724520905922\n",
            "Erdos-Renyi average betweenness centrality:  8636.630444250874\n"
          ],
          "name": "stdout"
        }
      ]
    },
    {
      "cell_type": "markdown",
      "metadata": {
        "id": "iymm8mCsYaGs",
        "colab_type": "text"
      },
      "source": [
        "\n",
        "## Distributions"
      ]
    },
    {
      "cell_type": "code",
      "metadata": {
        "id": "ReYeABskKadU",
        "colab_type": "code",
        "colab": {}
      },
      "source": [
        "def log_binning(x, dist):\n",
        "  bins = np.logspace(np.log10(min(x)), np.log10(max(x)), num=60)\n",
        "  avg_vals = np.zeros_like(bins)\n",
        "\n",
        "  for i in range(1, len(bins)):\n",
        "#     print(bins[i-1], \"   \", bins[i])\n",
        "    avg_vals[i-1] = np.mean(dist.to_numpy()[int(np.ceil(bins[i-1])):int(np.ceil(bins[i]))])\n",
        "#     print(avg_vals[i-1])\n",
        "\n",
        "  avg_vals[len(bins) - 1] = np.mean(dist.to_numpy()[int(np.ceil(bins[len(bins) - 2])):int(np.ceil(bins[len(bins) - 1]))])\n",
        "    \n",
        "  idx = np.argwhere(np.isnan(avg_vals))\n",
        "  return np.delete(bins, idx), np.delete(avg_vals, idx)"
      ],
      "execution_count": 0,
      "outputs": []
    },
    {
      "cell_type": "code",
      "metadata": {
        "id": "-BYQVUlSKLq1",
        "colab_type": "code",
        "outputId": "81fabc42-cf2b-48e1-b45b-b72dedc58950",
        "colab": {
          "base_uri": "https://localhost:8080/",
          "height": 530
        }
      },
      "source": [
        "my_hist = my_graph.degree_distribution(mode='OUT')\n",
        "er_hist = er_graph.degree_distribution(mode='OUT')\n",
        "\n",
        "my_p_k = pd.Series([number for (left, right, number) in my_hist.bins()])\n",
        "er_p_k = pd.Series([number for (left, right, number) in er_hist.bins()])\n",
        "\n",
        "my_p_k.plot(loglog=True, legend=True, label='My graph', style='x', figsize=(15,5), title='Degree distribution', alpha=0.7)\n",
        "er_p_k.plot(loglog=True, legend=True, label='Erdos-Renyi', style='+', alpha=0.7)\n",
        "\n",
        "# bins, vals = log_binning(my_graph.degree(), my_p_k)\n",
        "# print(vals)\n",
        "plt.ylim(my_p_k.min() - 1)\n",
        "# plt.xscale('log')\n",
        "# plt.yscale('log')\n",
        "# plt.scatter(y=vals, x = bins, c = 'red', alpha=0.7, label='Binned data')\n",
        "plt.legend()"
      ],
      "execution_count": 0,
      "outputs": [
        {
          "output_type": "stream",
          "text": [
            "/usr/local/lib/python3.6/dist-packages/pandas/plotting/_matplotlib/core.py:1085: UserWarning: Attempted to set non-positive left xlim on a log-scaled axis.\n",
            "Invalid limit will be ignored.\n",
            "  ax.set_xlim(left, right)\n",
            "/usr/local/lib/python3.6/dist-packages/pandas/plotting/_matplotlib/core.py:1085: UserWarning: Attempted to set non-positive left xlim on a log-scaled axis.\n",
            "Invalid limit will be ignored.\n",
            "  ax.set_xlim(left, right)\n",
            "/usr/local/lib/python3.6/dist-packages/ipykernel_launcher.py:12: UserWarning: Attempted to set non-positive bottom ylim on a log-scaled axis.\n",
            "Invalid limit will be ignored.\n",
            "  if sys.path[0] == '':\n"
          ],
          "name": "stderr"
        },
        {
          "output_type": "execute_result",
          "data": {
            "text/plain": [
              "<matplotlib.legend.Legend at 0x7f38aa579e10>"
            ]
          },
          "metadata": {
            "tags": []
          },
          "execution_count": 8
        },
        {
          "output_type": "display_data",
          "data": {
            "image/png": "[encoded data removed]",
            "text/plain": [
              "<Figure size 1080x360 with 1 Axes>"
            ]
          },
          "metadata": {
            "tags": []
          }
        }
      ]
    },
    {
      "cell_type": "code",
      "metadata": {
        "id": "a3187bVg3uaM",
        "colab_type": "code",
        "outputId": "d5a50ed7-9d95-4a69-8069-c75dbdd9a869",
        "colab": {
          "base_uri": "https://localhost:8080/",
          "height": 409
        }
      },
      "source": [
        "my_hist = my_graph.degree_distribution(mode='in')\n",
        "\n",
        "my_p_k = pd.Series([number for (left, right, number) in my_hist.bins()])\n",
        "\n",
        "# plt.grid(linestyle='dotted')\n",
        "# my_p_k.plot(loglog=True, style='.', figsize=(5,5), alpha=1, grid=True)\n",
        "\n",
        "# bins, vals = log_binning(my_graph.degree(), my_p_k)\n",
        "# print(vals)\n",
        "# plt.ylim(my_p_k.min() - 1)\n",
        "# plt.xscale('log')\n",
        "# plt.yscale('log')\n",
        "# plt.scatter(y=vals, x = bins, c = 'red', alpha=0.7, label='Binned data')\n",
        "# plt.legend()\n",
        "\n",
        "\n",
        "plt.grid(linestyle='dotted')\n",
        "plt.xlabel('degree k')\n",
        "plt.ylabel('degree probability P(k)')\n",
        "(my_p_k / sum(my_p_k)).plot(loglog=True, style='.', figsize=(5,5), alpha=1, grid=True)\n",
        "plt.savefig('indegree.eps', format='eps', bbox_inches='tight', dpi=96)"
      ],
      "execution_count": 0,
      "outputs": [
        {
          "output_type": "stream",
          "text": [
            "/usr/local/lib/python3.6/dist-packages/pandas/plotting/_matplotlib/core.py:1085: UserWarning: Attempted to set non-positive left xlim on a log-scaled axis.\n",
            "Invalid limit will be ignored.\n",
            "  ax.set_xlim(left, right)\n"
          ],
          "name": "stderr"
        },
        {
          "output_type": "display_data",
          "data": {
            "image/png": "[encoded data removed]",
            "text/plain": [
              "<Figure size 360x360 with 1 Axes>"
            ]
          },
          "metadata": {
            "tags": []
          }
        }
      ]
    },
    {
      "cell_type": "code",
      "metadata": {
        "id": "zjJYQwDpsCrX",
        "colab_type": "code",
        "outputId": "ce7de8bf-57a5-4bdf-86f0-ac4cc09db138",
        "colab": {
          "base_uri": "https://localhost:8080/",
          "height": 34
        }
      },
      "source": [
        "sum(my_p_k)"
      ],
      "execution_count": 0,
      "outputs": [
        {
          "output_type": "execute_result",
          "data": {
            "text/plain": [
              "4604"
            ]
          },
          "metadata": {
            "tags": []
          },
          "execution_count": 99
        }
      ]
    },
    {
      "cell_type": "code",
      "metadata": {
        "id": "u4-G_p0q6oAL",
        "colab_type": "code",
        "colab": {}
      },
      "source": [
        "my_hist = my_graph.degree_distribution(mode='in')\n",
        "my_p_k = pd.Series([number for (left, right, number) in my_hist.bins()])\n",
        "\n",
        "my_hist_out = my_graph.degree_distribution(mode='out')\n",
        "my_p_k_out = pd.Series([number for (left, right, number) in my_hist_out.bins()])\n",
        "\n",
        "\n",
        "# plt.grid(linestyle='dotted')\n",
        "# plt.xlabel('degree k')\n",
        "# my_p_k_out.plot(loglog=True, style='.', figsize=(5,5), alpha=1, grid=True)\n",
        "# plt.savefig('outdegree.eps',  format='eps', bbox_inches='tight', dpi=96)"
      ],
      "execution_count": 0,
      "outputs": []
    },
    {
      "cell_type": "code",
      "metadata": {
        "id": "gEF-W8ha6s40",
        "colab_type": "code",
        "outputId": "69c317cd-4b67-4f65-eee0-0d5bf93e0095",
        "colab": {
          "base_uri": "https://localhost:8080/",
          "height": 460
        }
      },
      "source": [
        "plt.subplot(1,2,1)\n",
        "plt.xlabel('degree k')\n",
        "plt.ylabel('degree probability P(k)')\n",
        "(my_p_k / sum(my_p_k)).plot(loglog=True, style='.', figsize=(10,5), alpha=1,grid=True)\n",
        "\n",
        "plt.subplot(1,2,2)\n",
        "plt.xlabel('degree k')\n",
        "(my_p_k_out / sum(my_p_k_out)).plot(loglog=True, style='.', figsize=(10,5), alpha=1, grid=True)\n",
        "plt.savefig('distrs.eps',  format='eps', bbox_inches='tight')"
      ],
      "execution_count": 0,
      "outputs": [
        {
          "output_type": "stream",
          "text": [
            "/usr/local/lib/python3.6/dist-packages/pandas/plotting/_matplotlib/core.py:1085: UserWarning: Attempted to set non-positive left xlim on a log-scaled axis.\n",
            "Invalid limit will be ignored.\n",
            "  ax.set_xlim(left, right)\n",
            "/usr/local/lib/python3.6/dist-packages/pandas/plotting/_matplotlib/core.py:1085: UserWarning: Attempted to set non-positive left xlim on a log-scaled axis.\n",
            "Invalid limit will be ignored.\n",
            "  ax.set_xlim(left, right)\n"
          ],
          "name": "stderr"
        },
        {
          "output_type": "display_data",
          "data": {
            "image/png": "[encoded data removed]",
            "text/plain": [
              "<Figure size 720x360 with 2 Axes>"
            ]
          },
          "metadata": {
            "tags": []
          }
        }
      ]
    },
    {
      "cell_type": "code",
      "metadata": {
        "id": "bQI_w7Hq7-np",
        "colab_type": "code",
        "outputId": "d0bb7b51-05ec-4202-d531-ee5d91a3f73e",
        "colab": {
          "base_uri": "https://localhost:8080/",
          "height": 286
        }
      },
      "source": [
        "plt.scatter(x=bins, y = np.ones_like(bins))"
      ],
      "execution_count": 0,
      "outputs": [
        {
          "output_type": "execute_result",
          "data": {
            "text/plain": [
              "<matplotlib.collections.PathCollection at 0x7f72e1055dd8>"
            ]
          },
          "metadata": {
            "tags": []
          },
          "execution_count": 29
        },
        {
          "output_type": "display_data",
          "data": {
            "image/png": "[encoded data removed]",
            "text/plain": [
              "<Figure size 432x288 with 1 Axes>"
            ]
          },
          "metadata": {
            "tags": []
          }
        }
      ]
    },
    {
      "cell_type": "code",
      "metadata": {
        "id": "iQF6k2vsalTo",
        "colab_type": "code",
        "outputId": "da097a81-b0cd-4da1-df6b-480b95872619",
        "colab": {
          "base_uri": "https://localhost:8080/",
          "height": 54
        }
      },
      "source": [
        "result = power_law_fit(my_p_k)\n",
        "result.summary()"
      ],
      "execution_count": 0,
      "outputs": [
        {
          "output_type": "execute_result",
          "data": {
            "text/plain": [
              "'Fitted power-law distribution on discrete data\\n\\nExponent (alpha)  = 1.813082\\nCutoff (xmin)     = 11.000000\\n\\nLog-likelihood    = -301.656429\\n\\nH0: data was drawn from the fitted distribution\\n\\nKS test statistic = 0.072909\\np-value           = 0.891171\\n\\nH0 could not be rejected at significance level 0.05'"
            ]
          },
          "metadata": {
            "tags": []
          },
          "execution_count": 18
        }
      ]
    },
    {
      "cell_type": "code",
      "metadata": {
        "id": "YPma2ewcBHwt",
        "colab_type": "code",
        "outputId": "19c3add0-7b8b-4f26-94ad-f45db0de8b46",
        "colab": {
          "base_uri": "https://localhost:8080/",
          "height": 54
        }
      },
      "source": [
        "result_out = power_law_fit(my_p_k_out)\n",
        "result_out.summary()"
      ],
      "execution_count": 0,
      "outputs": [
        {
          "output_type": "execute_result",
          "data": {
            "text/plain": [
              "'Fitted power-law distribution on discrete data\\n\\nExponent (alpha)  = 1.388564\\nCutoff (xmin)     = 1.000000\\n\\nLog-likelihood    = -622.515122\\n\\nH0: data was drawn from the fitted distribution\\n\\nKS test statistic = 0.105297\\np-value           = 0.064311\\n\\nH0 could not be rejected at significance level 0.05'"
            ]
          },
          "metadata": {
            "tags": []
          },
          "execution_count": 19
        }
      ]
    },
    {
      "cell_type": "code",
      "metadata": {
        "id": "gmQ-nN3YHEbl",
        "colab_type": "code",
        "outputId": "c91d5d2b-ae94-475a-c9df-7187f839d540",
        "colab": {
          "base_uri": "https://localhost:8080/",
          "height": 360
        }
      },
      "source": [
        "!pip install powerlaw"
      ],
      "execution_count": 0,
      "outputs": [
        {
          "output_type": "stream",
          "text": [
            "Collecting powerlaw\n",
            "  Downloading https://files.pythonhosted.org/packages/d5/4e/3ceab890fafff8e78a5fd7f5340c232c38b21d181fcd32d7a31079db3646/powerlaw-1.4.6.tar.gz\n",
            "Requirement already satisfied: scipy in /usr/local/lib/python3.6/dist-packages (from powerlaw) (1.3.3)\n",
            "Requirement already satisfied: numpy in /usr/local/lib/python3.6/dist-packages (from powerlaw) (1.17.4)\n",
            "Requirement already satisfied: matplotlib in /usr/local/lib/python3.6/dist-packages (from powerlaw) (3.1.2)\n",
            "Requirement already satisfied: mpmath in /usr/local/lib/python3.6/dist-packages (from powerlaw) (1.1.0)\n",
            "Requirement already satisfied: kiwisolver>=1.0.1 in /usr/local/lib/python3.6/dist-packages (from matplotlib->powerlaw) (1.1.0)\n",
            "Requirement already satisfied: cycler>=0.10 in /usr/local/lib/python3.6/dist-packages (from matplotlib->powerlaw) (0.10.0)\n",
            "Requirement already satisfied: pyparsing!=2.0.4,!=2.1.2,!=2.1.6,>=2.0.1 in /usr/local/lib/python3.6/dist-packages (from matplotlib->powerlaw) (2.4.5)\n",
            "Requirement already satisfied: python-dateutil>=2.1 in /usr/local/lib/python3.6/dist-packages (from matplotlib->powerlaw) (2.6.1)\n",
            "Requirement already satisfied: setuptools in /usr/local/lib/python3.6/dist-packages (from kiwisolver>=1.0.1->matplotlib->powerlaw) (42.0.2)\n",
            "Requirement already satisfied: six in /usr/local/lib/python3.6/dist-packages (from cycler>=0.10->matplotlib->powerlaw) (1.12.0)\n",
            "Building wheels for collected packages: powerlaw\n",
            "  Building wheel for powerlaw (setup.py) ... \u001b[?25l\u001b[?25hdone\n",
            "  Created wheel for powerlaw: filename=powerlaw-1.4.6-cp36-none-any.whl size=24786 sha256=307ca517a3ba5b8008a4569bd341972332320c295440a54512516e95898275b1\n",
            "  Stored in directory: /root/.cache/pip/wheels/e0/27/02/08d0e2865072bfd8d7c655e290521e3feca3fc22f1ac460601\n",
            "Successfully built powerlaw\n",
            "Installing collected packages: powerlaw\n",
            "Successfully installed powerlaw-1.4.6\n"
          ],
          "name": "stdout"
        }
      ]
    },
    {
      "cell_type": "code",
      "metadata": {
        "id": "0nTjCJKWHK5-",
        "colab_type": "code",
        "outputId": "98016dc7-182d-4f45-be30-05efc1ee2aa2",
        "colab": {
          "base_uri": "https://localhost:8080/",
          "height": 354
        }
      },
      "source": [
        "import powerlaw\n",
        "\n",
        "fitted = powerlaw.Fit(my_p_k)"
      ],
      "execution_count": 0,
      "outputs": [
        {
          "output_type": "stream",
          "text": [
            "Values less than or equal to 0 in data. Throwing out 0 or negative values\n",
            "Calculating best minimal value for power law fit\n",
            "/usr/local/lib/python3.6/dist-packages/powerlaw.py:700: RuntimeWarning: invalid value encountered in true_divide\n",
            "  (Theoretical_CDF * (1 - Theoretical_CDF))\n"
          ],
          "name": "stderr"
        },
        {
          "output_type": "execute_result",
          "data": {
            "text/plain": [
              "<matplotlib.axes._subplots.AxesSubplot at 0x7f38a847ccc0>"
            ]
          },
          "metadata": {
            "tags": []
          },
          "execution_count": 50
        },
        {
          "output_type": "display_data",
          "data": {
            "image/png": "[encoded data removed]",
            "text/plain": [
              "<Figure size 432x288 with 1 Axes>"
            ]
          },
          "metadata": {
            "tags": []
          }
        }
      ]
    },
    {
      "cell_type": "code",
      "metadata": {
        "id": "WKaEQ38KBtEB",
        "colab_type": "code",
        "outputId": "e98505e9-ab07-449b-ff55-63b189c4acb3",
        "colab": {
          "base_uri": "https://localhost:8080/",
          "height": 674
        }
      },
      "source": [
        "#IN\n",
        "plt.grid(linestyle='dotted')\n",
        "plt.xlabel('degree k')\n",
        "# x = np.arange(10**3)\n",
        "y = my_p_k ** (-fitted.alpha) * np.sum(my_p_k[int(fitted.xmin):])\n",
        "plt.plot(x,y)\n",
        "my_p_k.plot(loglog=True, style='.', figsize=(5,5), alpha=1, grid=True)\n",
        "# plt.savefig('outdegree.eps',  format='eps', bbox_inches='tight', dpi=96)"
      ],
      "execution_count": 0,
      "outputs": [
        {
          "output_type": "stream",
          "text": [
            "/usr/local/lib/python3.6/dist-packages/pandas/core/series.py:856: RuntimeWarning: divide by zero encountered in log\n",
            "  result = getattr(ufunc, method)(*inputs, **kwargs)\n"
          ],
          "name": "stderr"
        },
        {
          "output_type": "error",
          "ename": "ValueError",
          "evalue": "ignored",
          "traceback": [
            "\u001b[0;31m---------------------------------------------------------------------------\u001b[0m",
            "\u001b[0;31mValueError\u001b[0m                                Traceback (most recent call last)",
            "\u001b[0;32m<ipython-input-70-152498a155df>\u001b[0m in \u001b[0;36m<module>\u001b[0;34m()\u001b[0m\n\u001b[1;32m      3\u001b[0m \u001b[0;31m# x = np.arange(10**3)\u001b[0m\u001b[0;34m\u001b[0m\u001b[0;34m\u001b[0m\u001b[0;34m\u001b[0m\u001b[0m\n\u001b[1;32m      4\u001b[0m \u001b[0my\u001b[0m \u001b[0;34m=\u001b[0m \u001b[0mnp\u001b[0m\u001b[0;34m.\u001b[0m\u001b[0mlog\u001b[0m\u001b[0;34m(\u001b[0m\u001b[0mmy_p_k\u001b[0m\u001b[0;34m)\u001b[0m \u001b[0;34m**\u001b[0m \u001b[0;34m(\u001b[0m\u001b[0;34m-\u001b[0m\u001b[0mfitted\u001b[0m\u001b[0;34m.\u001b[0m\u001b[0malpha\u001b[0m\u001b[0;34m)\u001b[0m \u001b[0;34m*\u001b[0m \u001b[0mnp\u001b[0m\u001b[0;34m.\u001b[0m\u001b[0msum\u001b[0m\u001b[0;34m(\u001b[0m\u001b[0mmy_p_k\u001b[0m\u001b[0;34m[\u001b[0m\u001b[0mint\u001b[0m\u001b[0;34m(\u001b[0m\u001b[0mfitted\u001b[0m\u001b[0;34m.\u001b[0m\u001b[0mxmin\u001b[0m\u001b[0;34m)\u001b[0m\u001b[0;34m:\u001b[0m\u001b[0;34m]\u001b[0m\u001b[0;34m)\u001b[0m\u001b[0;34m\u001b[0m\u001b[0;34m\u001b[0m\u001b[0m\n\u001b[0;32m----> 5\u001b[0;31m \u001b[0mplt\u001b[0m\u001b[0;34m.\u001b[0m\u001b[0mplot\u001b[0m\u001b[0;34m(\u001b[0m\u001b[0mx\u001b[0m\u001b[0;34m,\u001b[0m\u001b[0my\u001b[0m\u001b[0;34m)\u001b[0m\u001b[0;34m\u001b[0m\u001b[0;34m\u001b[0m\u001b[0m\n\u001b[0m\u001b[1;32m      6\u001b[0m \u001b[0mmy_p_k\u001b[0m\u001b[0;34m.\u001b[0m\u001b[0mplot\u001b[0m\u001b[0;34m(\u001b[0m\u001b[0mloglog\u001b[0m\u001b[0;34m=\u001b[0m\u001b[0;32mTrue\u001b[0m\u001b[0;34m,\u001b[0m \u001b[0mstyle\u001b[0m\u001b[0;34m=\u001b[0m\u001b[0;34m'.'\u001b[0m\u001b[0;34m,\u001b[0m \u001b[0mfigsize\u001b[0m\u001b[0;34m=\u001b[0m\u001b[0;34m(\u001b[0m\u001b[0;36m5\u001b[0m\u001b[0;34m,\u001b[0m\u001b[0;36m5\u001b[0m\u001b[0;34m)\u001b[0m\u001b[0;34m,\u001b[0m \u001b[0malpha\u001b[0m\u001b[0;34m=\u001b[0m\u001b[0;36m1\u001b[0m\u001b[0;34m,\u001b[0m \u001b[0mgrid\u001b[0m\u001b[0;34m=\u001b[0m\u001b[0;32mTrue\u001b[0m\u001b[0;34m)\u001b[0m\u001b[0;34m\u001b[0m\u001b[0;34m\u001b[0m\u001b[0m\n\u001b[1;32m      7\u001b[0m \u001b[0;31m# plt.savefig('outdegree.eps',  format='eps', bbox_inches='tight', dpi=96)\u001b[0m\u001b[0;34m\u001b[0m\u001b[0;34m\u001b[0m\u001b[0;34m\u001b[0m\u001b[0m\n",
            "\u001b[0;32m/usr/local/lib/python3.6/dist-packages/matplotlib/pyplot.py\u001b[0m in \u001b[0;36mplot\u001b[0;34m(scalex, scaley, data, *args, **kwargs)\u001b[0m\n\u001b[1;32m   2787\u001b[0m     return gca().plot(\n\u001b[1;32m   2788\u001b[0m         *args, scalex=scalex, scaley=scaley, **({\"data\": data} if data\n\u001b[0;32m-> 2789\u001b[0;31m         is not None else {}), **kwargs)\n\u001b[0m\u001b[1;32m   2790\u001b[0m \u001b[0;34m\u001b[0m\u001b[0m\n\u001b[1;32m   2791\u001b[0m \u001b[0;34m\u001b[0m\u001b[0m\n",
            "\u001b[0;32m/usr/local/lib/python3.6/dist-packages/matplotlib/axes/_axes.py\u001b[0m in \u001b[0;36mplot\u001b[0;34m(self, scalex, scaley, data, *args, **kwargs)\u001b[0m\n\u001b[1;32m   1663\u001b[0m         \"\"\"\n\u001b[1;32m   1664\u001b[0m         \u001b[0mkwargs\u001b[0m \u001b[0;34m=\u001b[0m \u001b[0mcbook\u001b[0m\u001b[0;34m.\u001b[0m\u001b[0mnormalize_kwargs\u001b[0m\u001b[0;34m(\u001b[0m\u001b[0mkwargs\u001b[0m\u001b[0;34m,\u001b[0m \u001b[0mmlines\u001b[0m\u001b[0;34m.\u001b[0m\u001b[0mLine2D\u001b[0m\u001b[0;34m.\u001b[0m\u001b[0m_alias_map\u001b[0m\u001b[0;34m)\u001b[0m\u001b[0;34m\u001b[0m\u001b[0;34m\u001b[0m\u001b[0m\n\u001b[0;32m-> 1665\u001b[0;31m         \u001b[0mlines\u001b[0m \u001b[0;34m=\u001b[0m \u001b[0;34m[\u001b[0m\u001b[0;34m*\u001b[0m\u001b[0mself\u001b[0m\u001b[0;34m.\u001b[0m\u001b[0m_get_lines\u001b[0m\u001b[0;34m(\u001b[0m\u001b[0;34m*\u001b[0m\u001b[0margs\u001b[0m\u001b[0;34m,\u001b[0m \u001b[0mdata\u001b[0m\u001b[0;34m=\u001b[0m\u001b[0mdata\u001b[0m\u001b[0;34m,\u001b[0m \u001b[0;34m**\u001b[0m\u001b[0mkwargs\u001b[0m\u001b[0;34m)\u001b[0m\u001b[0;34m]\u001b[0m\u001b[0;34m\u001b[0m\u001b[0;34m\u001b[0m\u001b[0m\n\u001b[0m\u001b[1;32m   1666\u001b[0m         \u001b[0;32mfor\u001b[0m \u001b[0mline\u001b[0m \u001b[0;32min\u001b[0m \u001b[0mlines\u001b[0m\u001b[0;34m:\u001b[0m\u001b[0;34m\u001b[0m\u001b[0;34m\u001b[0m\u001b[0m\n\u001b[1;32m   1667\u001b[0m             \u001b[0mself\u001b[0m\u001b[0;34m.\u001b[0m\u001b[0madd_line\u001b[0m\u001b[0;34m(\u001b[0m\u001b[0mline\u001b[0m\u001b[0;34m)\u001b[0m\u001b[0;34m\u001b[0m\u001b[0;34m\u001b[0m\u001b[0m\n",
            "\u001b[0;32m/usr/local/lib/python3.6/dist-packages/matplotlib/axes/_base.py\u001b[0m in \u001b[0;36m__call__\u001b[0;34m(self, *args, **kwargs)\u001b[0m\n\u001b[1;32m    223\u001b[0m                 \u001b[0mthis\u001b[0m \u001b[0;34m+=\u001b[0m \u001b[0margs\u001b[0m\u001b[0;34m[\u001b[0m\u001b[0;36m0\u001b[0m\u001b[0;34m]\u001b[0m\u001b[0;34m,\u001b[0m\u001b[0;34m\u001b[0m\u001b[0;34m\u001b[0m\u001b[0m\n\u001b[1;32m    224\u001b[0m                 \u001b[0margs\u001b[0m \u001b[0;34m=\u001b[0m \u001b[0margs\u001b[0m\u001b[0;34m[\u001b[0m\u001b[0;36m1\u001b[0m\u001b[0;34m:\u001b[0m\u001b[0;34m]\u001b[0m\u001b[0;34m\u001b[0m\u001b[0;34m\u001b[0m\u001b[0m\n\u001b[0;32m--> 225\u001b[0;31m             \u001b[0;32myield\u001b[0m \u001b[0;32mfrom\u001b[0m \u001b[0mself\u001b[0m\u001b[0;34m.\u001b[0m\u001b[0m_plot_args\u001b[0m\u001b[0;34m(\u001b[0m\u001b[0mthis\u001b[0m\u001b[0;34m,\u001b[0m \u001b[0mkwargs\u001b[0m\u001b[0;34m)\u001b[0m\u001b[0;34m\u001b[0m\u001b[0;34m\u001b[0m\u001b[0m\n\u001b[0m\u001b[1;32m    226\u001b[0m \u001b[0;34m\u001b[0m\u001b[0m\n\u001b[1;32m    227\u001b[0m     \u001b[0;32mdef\u001b[0m \u001b[0mget_next_color\u001b[0m\u001b[0;34m(\u001b[0m\u001b[0mself\u001b[0m\u001b[0;34m)\u001b[0m\u001b[0;34m:\u001b[0m\u001b[0;34m\u001b[0m\u001b[0;34m\u001b[0m\u001b[0m\n",
            "\u001b[0;32m/usr/local/lib/python3.6/dist-packages/matplotlib/axes/_base.py\u001b[0m in \u001b[0;36m_plot_args\u001b[0;34m(self, tup, kwargs)\u001b[0m\n\u001b[1;32m    389\u001b[0m             \u001b[0mx\u001b[0m\u001b[0;34m,\u001b[0m \u001b[0my\u001b[0m \u001b[0;34m=\u001b[0m \u001b[0mindex_of\u001b[0m\u001b[0;34m(\u001b[0m\u001b[0mtup\u001b[0m\u001b[0;34m[\u001b[0m\u001b[0;34m-\u001b[0m\u001b[0;36m1\u001b[0m\u001b[0;34m]\u001b[0m\u001b[0;34m)\u001b[0m\u001b[0;34m\u001b[0m\u001b[0;34m\u001b[0m\u001b[0m\n\u001b[1;32m    390\u001b[0m \u001b[0;34m\u001b[0m\u001b[0m\n\u001b[0;32m--> 391\u001b[0;31m         \u001b[0mx\u001b[0m\u001b[0;34m,\u001b[0m \u001b[0my\u001b[0m \u001b[0;34m=\u001b[0m \u001b[0mself\u001b[0m\u001b[0;34m.\u001b[0m\u001b[0m_xy_from_xy\u001b[0m\u001b[0;34m(\u001b[0m\u001b[0mx\u001b[0m\u001b[0;34m,\u001b[0m \u001b[0my\u001b[0m\u001b[0;34m)\u001b[0m\u001b[0;34m\u001b[0m\u001b[0;34m\u001b[0m\u001b[0m\n\u001b[0m\u001b[1;32m    392\u001b[0m \u001b[0;34m\u001b[0m\u001b[0m\n\u001b[1;32m    393\u001b[0m         \u001b[0;32mif\u001b[0m \u001b[0mself\u001b[0m\u001b[0;34m.\u001b[0m\u001b[0mcommand\u001b[0m \u001b[0;34m==\u001b[0m \u001b[0;34m'plot'\u001b[0m\u001b[0;34m:\u001b[0m\u001b[0;34m\u001b[0m\u001b[0;34m\u001b[0m\u001b[0m\n",
            "\u001b[0;32m/usr/local/lib/python3.6/dist-packages/matplotlib/axes/_base.py\u001b[0m in \u001b[0;36m_xy_from_xy\u001b[0;34m(self, x, y)\u001b[0m\n\u001b[1;32m    268\u001b[0m         \u001b[0;32mif\u001b[0m \u001b[0mx\u001b[0m\u001b[0;34m.\u001b[0m\u001b[0mshape\u001b[0m\u001b[0;34m[\u001b[0m\u001b[0;36m0\u001b[0m\u001b[0;34m]\u001b[0m \u001b[0;34m!=\u001b[0m \u001b[0my\u001b[0m\u001b[0;34m.\u001b[0m\u001b[0mshape\u001b[0m\u001b[0;34m[\u001b[0m\u001b[0;36m0\u001b[0m\u001b[0;34m]\u001b[0m\u001b[0;34m:\u001b[0m\u001b[0;34m\u001b[0m\u001b[0;34m\u001b[0m\u001b[0m\n\u001b[1;32m    269\u001b[0m             raise ValueError(\"x and y must have same first dimension, but \"\n\u001b[0;32m--> 270\u001b[0;31m                              \"have shapes {} and {}\".format(x.shape, y.shape))\n\u001b[0m\u001b[1;32m    271\u001b[0m         \u001b[0;32mif\u001b[0m \u001b[0mx\u001b[0m\u001b[0;34m.\u001b[0m\u001b[0mndim\u001b[0m \u001b[0;34m>\u001b[0m \u001b[0;36m2\u001b[0m \u001b[0;32mor\u001b[0m \u001b[0my\u001b[0m\u001b[0;34m.\u001b[0m\u001b[0mndim\u001b[0m \u001b[0;34m>\u001b[0m \u001b[0;36m2\u001b[0m\u001b[0;34m:\u001b[0m\u001b[0;34m\u001b[0m\u001b[0;34m\u001b[0m\u001b[0m\n\u001b[1;32m    272\u001b[0m             raise ValueError(\"x and y can be no greater than 2-D, but have \"\n",
            "\u001b[0;31mValueError\u001b[0m: x and y must have same first dimension, but have shapes (1000,) and (1552,)"
          ]
        },
        {
          "output_type": "display_data",
          "data": {
            "image/png": "[encoded data removed]",
            "text/plain": [
              "<Figure size 432x288 with 1 Axes>"
            ]
          },
          "metadata": {
            "tags": []
          }
        }
      ]
    },
    {
      "cell_type": "code",
      "metadata": {
        "id": "YjKhKnJwoyJB",
        "colab_type": "code",
        "outputId": "d4366881-1e44-4786-cdd0-073206354b78",
        "colab": {
          "base_uri": "https://localhost:8080/",
          "height": 180
        }
      },
      "source": [
        "result2 = power_law_fit(my_P_k)\n",
        "result2.summary()"
      ],
      "execution_count": 0,
      "outputs": [
        {
          "output_type": "error",
          "ename": "NameError",
          "evalue": "ignored",
          "traceback": [
            "\u001b[0;31m---------------------------------------------------------------------------\u001b[0m",
            "\u001b[0;31mNameError\u001b[0m                                 Traceback (most recent call last)",
            "\u001b[0;32m<ipython-input-31-0e0661a169c3>\u001b[0m in \u001b[0;36m<module>\u001b[0;34m()\u001b[0m\n\u001b[0;32m----> 1\u001b[0;31m \u001b[0mresult2\u001b[0m \u001b[0;34m=\u001b[0m \u001b[0mpower_law_fit\u001b[0m\u001b[0;34m(\u001b[0m\u001b[0mmy_P_k\u001b[0m\u001b[0;34m)\u001b[0m\u001b[0;34m\u001b[0m\u001b[0;34m\u001b[0m\u001b[0m\n\u001b[0m\u001b[1;32m      2\u001b[0m \u001b[0mresult2\u001b[0m\u001b[0;34m.\u001b[0m\u001b[0msummary\u001b[0m\u001b[0;34m(\u001b[0m\u001b[0;34m)\u001b[0m\u001b[0;34m\u001b[0m\u001b[0;34m\u001b[0m\u001b[0m\n",
            "\u001b[0;31mNameError\u001b[0m: name 'my_P_k' is not defined"
          ]
        }
      ]
    },
    {
      "cell_type": "code",
      "metadata": {
        "id": "neN5GqFjZmvh",
        "colab_type": "code",
        "outputId": "841fcb4a-7f68-458a-d150-c297c2475341",
        "colab": {
          "base_uri": "https://localhost:8080/",
          "height": 338
        }
      },
      "source": [
        "# my_P_k = my_p_k[::-1].cumsum()[::-1]\n",
        "# er_P_k = er_p_k[::-1].cumsum()[::-1]\n",
        "\n",
        "plt.subplot(1,2,1)\n",
        "plt.grid(linestyle='dotted')\n",
        "plt.xscale('symlog')\n",
        "plt.yscale('log')\n",
        "plt.xlabel('degree k')\n",
        "plt.ylabel('degree probability P(k)')\n",
        "plt.xlim(left=-10)\n",
        "# plt.scatter(my_p_k[::-1].cumsum() / np.sum(my_p_k), marker='.', figsize=(5,5))\n",
        "(my_p_k[::-1].cumsum() / np.sum(my_p_k)).plot(\n",
        "    # loglog=True, \n",
        "            # legend=True, \n",
        "            # label='My graph', \n",
        "            style='.', \n",
        "            figsize=(10,5), \n",
        "            # title='Cumulative indegree distribution',\n",
        "            grid=True)\n",
        "\n",
        "plt.subplot(1,2,2)\n",
        "plt.grid(linestyle='dotted')\n",
        "plt.xscale('symlog')\n",
        "plt.yscale('log')\n",
        "plt.xlabel('degree k')\n",
        "plt.xlim(left=-10)\n",
        "# plt.ylabel('degree probability P(k)')\n",
        "# plt.plot(my_p_k[::-1].cumsum() / np.sum(my_p_k), marker='.')\n",
        "(1.0 - my_p_k_out.cumsum() / sum(my_p_k_out)).plot(\n",
        "            # loglog=True, \n",
        "            # legend=True, \n",
        "            # label='My graph', \n",
        "            style='.', \n",
        "            figsize=(10,5), \n",
        "            # title='Cumulative outdegree distribution',\n",
        "            grid=True)\n",
        "plt.savefig('cum_distrs.eps',  format='eps', bbox_inches='tight')"
      ],
      "execution_count": 0,
      "outputs": [
        {
          "output_type": "display_data",
          "data": {
            "image/png": "[encoded data removed]",
            "text/plain": [
              "<Figure size 720x360 with 2 Axes>"
            ]
          },
          "metadata": {
            "tags": []
          }
        }
      ]
    },
    {
      "cell_type": "code",
      "metadata": {
        "id": "TUzvwy1irTNy",
        "colab_type": "code",
        "outputId": "00b20171-69d8-46b6-aaa2-723a233f450d",
        "colab": {
          "base_uri": "https://localhost:8080/",
          "height": 34
        }
      },
      "source": [
        "sum(my_p_k_out)"
      ],
      "execution_count": 0,
      "outputs": [
        {
          "output_type": "execute_result",
          "data": {
            "text/plain": [
              "4604"
            ]
          },
          "metadata": {
            "tags": []
          },
          "execution_count": 104
        }
      ]
    },
    {
      "cell_type": "code",
      "metadata": {
        "id": "5Th4kQ5wvhfB",
        "colab_type": "code",
        "outputId": "2992ab8f-dbfc-4393-a315-d9ff3ccf6352",
        "colab": {
          "base_uri": "https://localhost:8080/",
          "height": 221
        }
      },
      "source": [
        "my_p_k[::-1].cumsum() / my_p_k.sum()"
      ],
      "execution_count": 0,
      "outputs": [
        {
          "output_type": "execute_result",
          "data": {
            "text/plain": [
              "1551    0.000217\n",
              "1550    0.000217\n",
              "1549    0.000217\n",
              "1548    0.000217\n",
              "1547    0.000217\n",
              "          ...   \n",
              "4       0.674196\n",
              "3       0.735230\n",
              "2       0.802129\n",
              "1       0.898132\n",
              "0       1.000000\n",
              "Length: 1552, dtype: float64"
            ]
          },
          "metadata": {
            "tags": []
          },
          "execution_count": 111
        }
      ]
    },
    {
      "cell_type": "code",
      "metadata": {
        "id": "OrMTqfnxo_Kj",
        "colab_type": "code",
        "outputId": "ed019653-0602-4e6f-c745-d43c4e48b85c",
        "colab": {
          "base_uri": "https://localhost:8080/",
          "height": 496
        }
      },
      "source": [
        "\n",
        "from scipy.optimize import curve_fit\n",
        "\n",
        "def f(x, a, k):\n",
        "  return a - np.log(x) * k\n",
        "\n",
        "offset = 5\n",
        "x = np.linspace(min(my_graph.degree()), max(my_graph.degree()), num = len(my_p_k))\n",
        "\n",
        "\n",
        "y = np.log(my_p_k)\n",
        "y[y==-np.inf] = 0\n",
        "y2 = np.log(my_p_k)\n",
        "y2[y2==-np.inf] = 0\n",
        "# popt, pcov = curve_fit(f, bins[offset:], y[offset:])\n",
        "popt, pcov = curve_fit(f, x[offset:], y2[offset:])\n",
        "\n",
        "# pred_y = pd.Series(f(bins[offset:], popt[0], popt[1]))\n",
        "pred_y2 = pd.Series(f(x[offset:], popt[0], popt[1]))\n",
        "my_p_k.plot(loglog=True, legend=True, style='s', figsize=(15,5), alpha=0.5, label='My graph')\n",
        "\n",
        "\n",
        "C = (result.alpha-1) * result.xmin**(result.alpha-1)\n",
        "plt.ylim(my_p_k.min()-1)\n",
        "# plt.plot(bins[offset:], np.exp(pred_y), label = 'Fit')\n",
        "plt.plot(x[offset:], np.exp(pred_y2), label = 'Fit')\n",
        "# plt.plot(x, (pd.Series(result.D * x **(-result.alpha))), label = 'Fit2')\n",
        "plt.scatter(y=y, x = x, c = 'red', alpha=0.7, label='Binned data')\n",
        "plt.title(\"p(k) = {} * x ^ (-{})\".format(popt[0], popt[1]))\n",
        "plt.legend()"
      ],
      "execution_count": 0,
      "outputs": [
        {
          "output_type": "stream",
          "text": [
            "/usr/local/lib/python3.6/dist-packages/pandas/core/series.py:856: RuntimeWarning: divide by zero encountered in log\n",
            "  result = getattr(ufunc, method)(*inputs, **kwargs)\n",
            "/usr/local/lib/python3.6/dist-packages/pandas/plotting/_matplotlib/core.py:1085: UserWarning: Attempted to set non-positive left xlim on a log-scaled axis.\n",
            "Invalid limit will be ignored.\n",
            "  ax.set_xlim(left, right)\n",
            "/usr/local/lib/python3.6/dist-packages/ipykernel_launcher.py:23: UserWarning: Attempted to set non-positive bottom ylim on a log-scaled axis.\n",
            "Invalid limit will be ignored.\n"
          ],
          "name": "stderr"
        },
        {
          "output_type": "execute_result",
          "data": {
            "text/plain": [
              "<matplotlib.legend.Legend at 0x7f389b1cf5c0>"
            ]
          },
          "metadata": {
            "tags": []
          },
          "execution_count": 60
        },
        {
          "output_type": "display_data",
          "data": {
            "image/png": "[encoded data removed]",
            "text/plain": [
              "<Figure size 1080x360 with 1 Axes>"
            ]
          },
          "metadata": {
            "tags": []
          }
        }
      ]
    },
    {
      "cell_type": "code",
      "metadata": {
        "id": "juLkCztsunqP",
        "colab_type": "code",
        "colab": {}
      },
      "source": [
        "popt, pcov = curve_fit(f, x, np.log(my_P_k.values))\n",
        "pred_P_y = pd.Series(f(x, popt[0], popt[1]))\n",
        "\n",
        "my_P_k.plot(loglog=True, legend=True, label='My graph', style='s', figsize=(15,5), title='Distribution function', alpha=0.5)\n",
        "plt.plot(x, np.exp(pred_P_y), label = 'Fit')\n",
        "plt.title(\"P(k) = {} * x ^ (-{})\".format(popt[0], popt[1]))\n",
        "plt.legend()"
      ],
      "execution_count": 0,
      "outputs": []
    },
    {
      "cell_type": "code",
      "metadata": {
        "id": "ugmmh1N5aaBb",
        "colab_type": "code",
        "colab": {}
      },
      "source": [
        "my_paths_counts = pd.Series(paths_lengths[paths_lengths>0]).value_counts()\n",
        "er_paths_counts = pd.Series(er_paths_lengths[er_paths_lengths>0]).value_counts()\n",
        "\n",
        "my_paths_counts.plot(style='.', title='Shortest paths length distribution', \n",
        "                     label='My graph', legend=True, figsize=(15, 5), ms=20, alpha=0.8)\n",
        "er_paths_counts.plot(style='.', label='Erdos-Renyi', legend=True, ms=20, alpha=0.5)\n",
        "plt.legend()"
      ],
      "execution_count": 0,
      "outputs": []
    },
    {
      "cell_type": "code",
      "metadata": {
        "id": "sFCOTCYKSZL4",
        "colab_type": "code",
        "colab": {}
      },
      "source": [
        "my_trans_counts = pd.Series(my_graph.transitivity_local_undirected()).value_counts()\n",
        "er_trans_counts = pd.Series(er_graph.transitivity_local_undirected()).value_counts()\n",
        "\n",
        "my_trans_counts.plot(style='.', title='Clustering coefficients distribution', \n",
        "                     label='My graph', legend=True, figsize=(15, 5))\n",
        "er_trans_counts.plot(style='.', label='Erdos-Renyi', legend=True)\n",
        "\n",
        "\n",
        "\n",
        "# my_trans_df = my_trans_counts.to_frame().reset_index()\n",
        "# my_trans_df.columns = ['coef', 'count']\n",
        "\n",
        "# er_trans_df = er_trans_counts.to_frame().reset_index()\n",
        "# er_trans_df.columns = ['coef', 'count']\n",
        "\n",
        "# import seaborn as sns\n",
        "# sns.regplot(x='coef', y='count', data=my_trans_df, scatter_kws={\"figsize\": \"(15, 5)\"}) \n",
        "# sns.regplot(x='coef', y='count', data=er_trans_df)"
      ],
      "execution_count": 0,
      "outputs": []
    },
    {
      "cell_type": "markdown",
      "metadata": {
        "id": "_1ObJToWeO33",
        "colab_type": "text"
      },
      "source": [
        "### Correlations"
      ]
    },
    {
      "cell_type": "code",
      "metadata": {
        "id": "-esIPycZhaWQ",
        "colab_type": "code",
        "colab": {}
      },
      "source": [
        "import altair as alt\n",
        "alt.data_transformers.enable('default', max_rows=None) "
      ],
      "execution_count": 0,
      "outputs": []
    },
    {
      "cell_type": "code",
      "metadata": {
        "id": "5nhXYcR6zS8r",
        "colab_type": "code",
        "colab": {}
      },
      "source": [
        "degree = my_graph.degree()\n",
        "cluster_coef = np.array(my_graph.transitivity_local_undirected(mode='nan')) / 2\n",
        "betweenness = my_graph.betweenness()\n",
        "\n",
        "\n",
        "viz_df = pd.DataFrame(zip(degree, cluster_coef, betweenness), columns=['degree', 'cluster_coef', 'betweenness'], )\n",
        "\n",
        "er_degree = er_graph.degree()\n",
        "er_cluster_coef = np.array(er_graph.transitivity_local_undirected(mode='nan')) / 2\n",
        "er_betweenness = er_graph.betweenness()\n",
        "\n",
        "\n",
        "er_viz_df = pd.DataFrame(zip(er_degree, er_cluster_coef, er_betweenness), columns=['degree', 'cluster_coef', 'betweenness'], )"
      ],
      "execution_count": 0,
      "outputs": []
    },
    {
      "cell_type": "code",
      "metadata": {
        "id": "TK0SUKM8vr9a",
        "colab_type": "code",
        "colab": {}
      },
      "source": [
        "viz_df.sort_values(by=['degree'])"
      ],
      "execution_count": 0,
      "outputs": []
    },
    {
      "cell_type": "code",
      "metadata": {
        "id": "E7q7I_tyhrbF",
        "colab_type": "code",
        "colab": {}
      },
      "source": [
        "alt.Chart(viz_df).mark_circle().encode(x = alt.X('degree', title='Degree'),  \n",
        "                                   y = alt.Y('cluster_coef', title='Local clustering coefficient', \n",
        "                                             ))"
      ],
      "execution_count": 0,
      "outputs": []
    },
    {
      "cell_type": "markdown",
      "metadata": {
        "id": "CsXbhD5lXrJt",
        "colab_type": "text"
      },
      "source": [
        "High degree nodes typically have lower cluster coefficients. This means that their neighbors have low probability of being connected. This can be explained in a way that there are some very abstract concepts so that many other concepts that are quite different can refer to them."
      ]
    },
    {
      "cell_type": "code",
      "metadata": {
        "id": "ZqETsEzn8pZ-",
        "colab_type": "code",
        "colab": {}
      },
      "source": [
        "print(\"Erdos-Renyi\")\n",
        "alt.Chart(er_viz_df).mark_circle().encode(x = alt.X('degree', title='Degree'),  \n",
        "                                   y = alt.Y('cluster_coef', title='Local clustering coefficient', \n",
        "                                             ))"
      ],
      "execution_count": 0,
      "outputs": []
    },
    {
      "cell_type": "markdown",
      "metadata": {
        "id": "KkcyPxE23rgT",
        "colab_type": "text"
      },
      "source": [
        "Looking on transitivity of degree 2 nodes can be uninformative, since it will always be equal to 0.5 or 0.\n"
      ]
    },
    {
      "cell_type": "code",
      "metadata": {
        "id": "FoTD1c7Eijdl",
        "colab_type": "code",
        "colab": {}
      },
      "source": [
        "paths_lengths[paths_lengths==0] = np.nan\n",
        "avg_paths = np.nanmean(paths_lengths, axis=1)\n",
        "viz_df['avg_paths'] = avg_paths\n",
        "\n",
        "er_paths_lengths[er_paths_lengths==0] = np.nan\n",
        "er_avg_paths = np.nanmean(er_paths_lengths, axis=1)\n",
        "er_viz_df['er_avg_paths'] = er_avg_paths"
      ],
      "execution_count": 0,
      "outputs": []
    },
    {
      "cell_type": "code",
      "metadata": {
        "id": "cc0t0QQlizCs",
        "colab_type": "code",
        "colab": {}
      },
      "source": [
        "alt.Chart(viz_df).mark_circle().encode(x = alt.X('degree', title='Degree'),  \n",
        "                                   y = alt.Y('avg_paths', title='Average shortest path', \n",
        "                                             ))"
      ],
      "execution_count": 0,
      "outputs": []
    },
    {
      "cell_type": "markdown",
      "metadata": {
        "id": "2hPdBhPU_F82",
        "colab_type": "text"
      },
      "source": [
        "Nodes with high degree typicaly have rather short shortest path"
      ]
    },
    {
      "cell_type": "code",
      "metadata": {
        "id": "RnkjkwOyBJQs",
        "colab_type": "code",
        "colab": {}
      },
      "source": [
        "print(\"Erdos-Renyi\")\n",
        "alt.Chart(er_viz_df).mark_circle().encode(x = alt.X('degree', title='Degree'),  \n",
        "                                   y = alt.Y('er_avg_paths', title='Average shortest path', \n",
        "                                             ))"
      ],
      "execution_count": 0,
      "outputs": []
    },
    {
      "cell_type": "code",
      "metadata": {
        "id": "6hR3sFXCIPOW",
        "colab_type": "code",
        "colab": {}
      },
      "source": [
        "alt.Chart(viz_df).mark_circle().encode(x = alt.X('degree', title='Degree'),  \n",
        "                                   y = alt.Y('betweenness', title='Betweenness centrality', \n",
        "                                             ))"
      ],
      "execution_count": 0,
      "outputs": []
    },
    {
      "cell_type": "code",
      "metadata": {
        "id": "iIqQeXXgBZdC",
        "colab_type": "code",
        "colab": {}
      },
      "source": [
        "print(\"Erdos-Renyi\")\n",
        "alt.Chart(er_viz_df).mark_circle().encode(x = alt.X('degree', title='Degree'),  \n",
        "                                   y = alt.Y('betweenness', title='Betweenness centrality', \n",
        "                                             ))"
      ],
      "execution_count": 0,
      "outputs": []
    },
    {
      "cell_type": "code",
      "metadata": {
        "id": "ZkaWPVmaJfSX",
        "colab_type": "code",
        "colab": {}
      },
      "source": [
        "print(\"My graph assortativity by clustering coefficients: \",\n",
        "      my_graph.assortativity(my_graph.transitivity_local_undirected(mode='zero')))\n",
        "print(\"Erdos-Renyi assortativity by clustering coefficients: \",\n",
        "      my_graph.assortativity(er_graph.transitivity_local_undirected(mode='zero')))"
      ],
      "execution_count": 0,
      "outputs": []
    },
    {
      "cell_type": "markdown",
      "metadata": {
        "id": "GCq4dIw-Z3EW",
        "colab_type": "text"
      },
      "source": [
        "### Community structure"
      ]
    },
    {
      "cell_type": "code",
      "metadata": {
        "id": "njoIbN2OLR8O",
        "colab_type": "code",
        "colab": {}
      },
      "source": [
        "import louvain\n",
        "\n",
        "my_partition = louvain.find_partition(my_graph, louvain.ModularityVertexPartition)\n",
        "print(\"My graph modularity score of partitioning by Louvain algorithm: \", my_partition.modularity)"
      ],
      "execution_count": 0,
      "outputs": []
    },
    {
      "cell_type": "code",
      "metadata": {
        "id": "a_OcE9RtNy3q",
        "colab_type": "code",
        "colab": {}
      },
      "source": [
        "print(\"Number of communities of my graph: \", max(my_partition.membership) + 1)"
      ],
      "execution_count": 0,
      "outputs": []
    },
    {
      "cell_type": "code",
      "metadata": {
        "id": "PaMwWPEQPX6V",
        "colab_type": "code",
        "colab": {}
      },
      "source": [
        "cluster_sizes = pd.Series(my_partition.sizes())\n",
        "cluster_sizes.plot(style='*', title='Community sizes', xlim=(-1, max(my_partition.membership)+1))"
      ],
      "execution_count": 0,
      "outputs": []
    },
    {
      "cell_type": "code",
      "metadata": {
        "id": "rEGuGCybbEXz",
        "colab_type": "code",
        "colab": {}
      },
      "source": [
        "def print_community(partition, n):\n",
        "  idx = np.argwhere(np.array(partition.membership) == n)\n",
        "  for i in idx:\n",
        "    print(partition.graph.vs[i[0]]['name'])\n",
        "    \n",
        "print_community(my_partition, 8)"
      ],
      "execution_count": 0,
      "outputs": []
    },
    {
      "cell_type": "code",
      "metadata": {
        "id": "luED2fzt3BE2",
        "colab_type": "code",
        "colab": {}
      },
      "source": [
        "## Tennis\n",
        "print_community(my_partition, 7)"
      ],
      "execution_count": 0,
      "outputs": []
    },
    {
      "cell_type": "code",
      "metadata": {
        "id": "QGeRurb03h2K",
        "colab_type": "code",
        "colab": {}
      },
      "source": [
        "## Asia - culture, geography, people\n",
        "print_community(my_partition, 6)"
      ],
      "execution_count": 0,
      "outputs": []
    },
    {
      "cell_type": "code",
      "metadata": {
        "id": "1bCEehQcaeX_",
        "colab_type": "code",
        "colab": {}
      },
      "source": [
        "## England \n",
        "print_community(my_partition, 5)"
      ],
      "execution_count": 0,
      "outputs": []
    },
    {
      "cell_type": "code",
      "metadata": {
        "id": "o_fgIQ9w3-wy",
        "colab_type": "code",
        "colab": {}
      },
      "source": [
        "## Geography - countries, cities\n",
        "print_community(my_partition, 4)"
      ],
      "execution_count": 0,
      "outputs": []
    },
    {
      "cell_type": "code",
      "metadata": {
        "id": "8MqmdMA04cIT",
        "colab_type": "code",
        "colab": {}
      },
      "source": [
        "## Nature, science \n",
        "print_community(my_partition, 3)"
      ],
      "execution_count": 0,
      "outputs": []
    },
    {
      "cell_type": "code",
      "metadata": {
        "id": "0CPkgMvS4rbZ",
        "colab_type": "code",
        "colab": {}
      },
      "source": [
        "## America, little bit of England\n",
        "print_community(my_partition, 2)"
      ],
      "execution_count": 0,
      "outputs": []
    },
    {
      "cell_type": "code",
      "metadata": {
        "id": "_wXA5-s55R8G",
        "colab_type": "code",
        "colab": {}
      },
      "source": [
        "## Biology - animals, plants \n",
        "print_community(my_partition, 1)"
      ],
      "execution_count": 0,
      "outputs": []
    },
    {
      "cell_type": "code",
      "metadata": {
        "id": "wDUPifvf5rWR",
        "colab_type": "code",
        "colab": {}
      },
      "source": [
        "## Centuries, philosophy, famous people, history, political science\n",
        "print_community(my_partition, 0)"
      ],
      "execution_count": 0,
      "outputs": []
    },
    {
      "cell_type": "markdown",
      "metadata": {
        "id": "9mJlzmkBZst2",
        "colab_type": "text"
      },
      "source": [
        "### Visualization"
      ]
    },
    {
      "cell_type": "code",
      "metadata": {
        "id": "Cu_63-x1PhUE",
        "colab_type": "code",
        "colab": {}
      },
      "source": [
        "import networkx as nx\n",
        "\n",
        "nx_graph = nx.from_pandas_edgelist(df)\n",
        "nx.draw(nx_graph)"
      ],
      "execution_count": 0,
      "outputs": []
    },
    {
      "cell_type": "markdown",
      "metadata": {
        "id": "vnJgmZ53qt0s",
        "colab_type": "text"
      },
      "source": [
        "### Paths graph analysis"
      ]
    },
    {
      "cell_type": "code",
      "metadata": {
        "id": "kA4vVVECYw9W",
        "colab_type": "code",
        "colab": {}
      },
      "source": [
        "paths_df = pd.read_csv('./paths_finished.tsv', sep='\\t', skiprows=16, header=None).reset_index()\n",
        "paths_df.columns = ['index', 'hashedIP', 'tstamp', 'durationSec', 'path', 'rating']\n",
        "paths_df.head()"
      ],
      "execution_count": 0,
      "outputs": []
    },
    {
      "cell_type": "code",
      "metadata": {
        "id": "q2Om5KRNCADH",
        "colab_type": "code",
        "colab": {}
      },
      "source": [
        "#MAX: 22 <\n",
        "def get_edge_seq(path):\n",
        "  parts = path.split(\";\")\n",
        "  \n",
        "  edges = np.zeros(len(parts)-1, dtype=object)\n",
        "  last = []\n",
        "  last_val = str()\n",
        "  cpy = np.zeros(len(parts), dtype=object)\n",
        "  cpy[0] = parts[0]\n",
        "  for i in range(1, len(parts)):\n",
        "    if parts[i] != \"<\":\n",
        "      cpy[i] = parts[i]\n",
        "      \n",
        "      idx = i - 1\n",
        "      if parts[idx] == \"<\":\n",
        "        last.append(last_val)\n",
        "      else:\n",
        "        last.append(parts[i - 1])\n",
        "    else:\n",
        "      cpy[i] = last.pop()\n",
        "      last_val = cpy[i]\n",
        "  \n",
        "  for i in range(len(parts)-1):\n",
        "    edges[i] = (cpy[i], cpy[i+1])\n",
        "      \n",
        "  return edges.tolist()"
      ],
      "execution_count": 0,
      "outputs": []
    },
    {
      "cell_type": "code",
      "metadata": {
        "id": "M3hc0i2XEwLJ",
        "colab_type": "code",
        "colab": {}
      },
      "source": [
        "tuples = [get_edge_seq(val) for val in paths_df['path'].values]"
      ],
      "execution_count": 0,
      "outputs": []
    },
    {
      "cell_type": "code",
      "metadata": {
        "id": "Cb0aLyylE4nK",
        "colab_type": "code",
        "colab": {}
      },
      "source": [
        "cont = []\n",
        "for i in range(len(tuples)):\n",
        "  cont += tuples[i]\n",
        "\n",
        "paths_graph = Graph.TupleList(cont, directed = True)\n",
        "er_paths_graph = Graph.Erdos_Renyi(n=paths_graph.vcount(), m=paths_graph.ecount(), directed = True)"
      ],
      "execution_count": 0,
      "outputs": []
    },
    {
      "cell_type": "code",
      "metadata": {
        "id": "a2BTln-ACpkE",
        "colab_type": "code",
        "outputId": "aadde19f-de25-4e84-9d19-7b19e5be7550",
        "colab": {
          "base_uri": "https://localhost:8080/",
          "height": 68
        }
      },
      "source": [
        "print(paths_graph.has_multiple()) # graph has multi edges\n",
        "print(np.alltrue(~np.array(paths_graph.is_loop()))) # but it does not have loops\n",
        "print(paths_graph.is_connected()) # and is disconnected"
      ],
      "execution_count": 0,
      "outputs": [
        {
          "output_type": "stream",
          "text": [
            "True\n",
            "True\n",
            "False\n"
          ],
          "name": "stdout"
        }
      ]
    },
    {
      "cell_type": "code",
      "metadata": {
        "colab_type": "code",
        "outputId": "91c9444b-d43a-4851-aa4a-d427918c3efe",
        "id": "rfB2opCGV_X-",
        "colab": {
          "base_uri": "https://localhost:8080/",
          "height": 34
        }
      },
      "source": [
        "print(\"Paths graph node count: \", paths_graph.vcount(), \", edge count: \", paths_graph.ecount())"
      ],
      "execution_count": 0,
      "outputs": [
        {
          "output_type": "stream",
          "text": [
            "Paths graph node count:  4169 , edge count:  295460\n"
          ],
          "name": "stdout"
        }
      ]
    },
    {
      "cell_type": "code",
      "metadata": {
        "colab_type": "code",
        "id": "5qKumGFWV_YB",
        "colab": {}
      },
      "source": [
        "#Avg degree\n",
        "\n",
        "print(\"Paths graph average degree: \", np.mean(paths_graph.degree()))\n",
        "print(\"Erdos-Renyi paths graph average degree: \", np.mean(er_paths_graph.degree()))"
      ],
      "execution_count": 0,
      "outputs": []
    },
    {
      "cell_type": "code",
      "metadata": {
        "colab_type": "code",
        "id": "AwUvXNd-V_YD",
        "colab": {}
      },
      "source": [
        "#Avg indegree and outdegree\n",
        "\n",
        "print(\"Paths graph average indegree: \", np.mean(paths_graph.indegree()))\n",
        "print(\"Paths graph average outdegree: \", np.mean(paths_graph.outdegree()))\n",
        "\n",
        "print(\"Erdo-Renyi paths graph average indegree: \", np.mean(er_paths_graph.indegree()))\n",
        "print(\"Erdo-Renyi paths graph average outdegree: \", np.mean(er_paths_graph.outdegree()))"
      ],
      "execution_count": 0,
      "outputs": []
    },
    {
      "cell_type": "code",
      "metadata": {
        "colab_type": "code",
        "id": "ytZEZYjoV_YF",
        "colab": {}
      },
      "source": [
        "#Min degree\n",
        "\n",
        "print(\"Paths graph min degree: \", np.min(paths_graph.degree()))\n",
        "print(\"Erdo-Renyi paths graph min degree: \", np.min(er_paths_graph.degree()))"
      ],
      "execution_count": 0,
      "outputs": []
    },
    {
      "cell_type": "code",
      "metadata": {
        "colab_type": "code",
        "id": "h1Y4dBxAV_YI",
        "colab": {}
      },
      "source": [
        "#Min indegree and outdegree\n",
        "\n",
        "print(\"Paths graph min indegree: \", np.min(paths_graph.indegree()))\n",
        "print(\"Paths graph min outdegree: \", np.min(paths_graph.outdegree()))\n",
        "\n",
        "print(\"Erdo-Renyi paths graph min indegree: \", np.min(er_paths_graph.indegree()))\n",
        "print(\"Erdo-Renyi paths graph min outdegree: \", np.min(er_paths_graph.outdegree()))"
      ],
      "execution_count": 0,
      "outputs": []
    },
    {
      "cell_type": "code",
      "metadata": {
        "colab_type": "code",
        "id": "9DVYbcCVV_YM",
        "colab": {}
      },
      "source": [
        "#Max degree\n",
        "\n",
        "print(\"Paths graph max degree: \", np.max(paths_graph.degree()))\n",
        "print(\"Erdo-Renyi paths graph max degree: \", np.max(er_paths_graph.degree()))"
      ],
      "execution_count": 0,
      "outputs": []
    },
    {
      "cell_type": "code",
      "metadata": {
        "colab_type": "code",
        "id": "0uKtJBsYV_YR",
        "colab": {}
      },
      "source": [
        "#Max indegree and outdegree\n",
        "\n",
        "print(\"Paths graph max indegree: \", np.max(paths_graph.indegree()))\n",
        "print(\"Paths graph max outdegree: \", np.max(paths_graph.outdegree()))\n",
        "\n",
        "print(\"Erdo-Renyi paths graph max indegree: \", np.max(er_paths_graph.indegree()))\n",
        "print(\"Erdo-Renyi paths graph max outdegree: \", np.max(er_paths_graph.outdegree()))"
      ],
      "execution_count": 0,
      "outputs": []
    },
    {
      "cell_type": "code",
      "metadata": {
        "colab_type": "code",
        "id": "qnawsIzoV_YZ",
        "colab": {}
      },
      "source": [
        "print(\"Paths graph degree assortativity coefficient: \", paths_graph.assortativity_degree())\n",
        "print(\"Erdo-Renyi paths graph degree assortativity coefficient: \", er_paths_graph.assortativity_degree())"
      ],
      "execution_count": 0,
      "outputs": []
    },
    {
      "cell_type": "code",
      "metadata": {
        "colab_type": "code",
        "id": "AGuRhIBtV_Yb",
        "colab": {}
      },
      "source": [
        "pg_paths_lengths = paths_graph.shortest_paths()"
      ],
      "execution_count": 0,
      "outputs": []
    },
    {
      "cell_type": "code",
      "metadata": {
        "id": "oWAQOwCkb1HL",
        "colab_type": "code",
        "colab": {}
      },
      "source": [
        "er_pg_paths_lengths = er_paths_graph.shortest_paths()"
      ],
      "execution_count": 0,
      "outputs": []
    },
    {
      "cell_type": "code",
      "metadata": {
        "colab_type": "code",
        "id": "dnP87bQoV_Yc",
        "colab": {}
      },
      "source": [
        "pg_paths_lengths = np.array(pg_paths_lengths)\n",
        "pg_paths_lengths[pg_paths_lengths==np.inf] = 0\n",
        "\n",
        "pg_avg_shortest_path_len = np.sum(pg_paths_lengths[pg_paths_lengths > 0]) / len(pg_paths_lengths[pg_paths_lengths > 0])\n",
        "\n",
        "print(\"Paths graph average shortest path length: \", pg_avg_shortest_path_len)"
      ],
      "execution_count": 0,
      "outputs": []
    },
    {
      "cell_type": "code",
      "metadata": {
        "id": "pfbYBAU4cQzR",
        "colab_type": "code",
        "colab": {}
      },
      "source": [
        "er_pg_paths_lengths = np.array(er_pg_paths_lengths)\n",
        "er_pg_paths_lengths[er_pg_paths_lengths==np.inf] = 0\n",
        "\n",
        "er_pg_avg_shortest_path_len = np.sum(er_pg_paths_lengths[er_pg_paths_lengths > 0]) / len(er_pg_paths_lengths[er_pg_paths_lengths > 0])\n",
        "\n",
        "print(\"Erdo-Renyi paths graph average shortest path length: \", er_pg_avg_shortest_path_len)"
      ],
      "execution_count": 0,
      "outputs": []
    },
    {
      "cell_type": "code",
      "metadata": {
        "colab_type": "code",
        "id": "FvVqFmc4V_Yg",
        "colab": {}
      },
      "source": [
        "print(\"Paths graph diameter: \", np.max(pg_paths_lengths))\n",
        "print(\"Erdo-Renyi paths graph diameter: \", np.max(er_pg_paths_lengths))"
      ],
      "execution_count": 0,
      "outputs": []
    },
    {
      "cell_type": "code",
      "metadata": {
        "id": "8kVJWgbtzX4M",
        "colab_type": "code",
        "outputId": "3416bec9-fb42-4cba-cc6b-fc8f06189a73",
        "colab": {
          "base_uri": "https://localhost:8080/",
          "height": 170
        }
      },
      "source": [
        "paths_diameter = paths_graph.get_diameter()\n",
        "paths_graph.vs[paths_diameter]['name']"
      ],
      "execution_count": 0,
      "outputs": [
        {
          "output_type": "execute_result",
          "data": {
            "text/plain": [
              "['Pali_Canon',\n",
              " 'Sri_Lanka',\n",
              " 'British_Empire',\n",
              " 'United_States',\n",
              " 'Scooby-Doo',\n",
              " 'Buffy_the_Vampire_Slayer',\n",
              " 'Firefly_%28TV_series%29',\n",
              " 'Serenity_%28film%29',\n",
              " 'Starship_Troopers']"
            ]
          },
          "metadata": {
            "tags": []
          },
          "execution_count": 46
        }
      ]
    },
    {
      "cell_type": "code",
      "metadata": {
        "colab_type": "code",
        "id": "unMwhGmCV_Yj",
        "colab": {}
      },
      "source": [
        "pg_gcc = paths_graph.clusters(mode='strong').giant()\n",
        "er_pg_gcc = er_paths_graph.clusters(mode='strong').giant()\n",
        "print(\"Paths graph GCC size: \", pg_gcc.vcount(), \", percent of whole graph: \", np.rint(pg_gcc.vcount() / paths_graph.vcount() * 100), \"%\")\n",
        "print(\"Erdo-Renyi paths graph GCC size: \", er_pg_gcc.vcount(), \", percent of whole graph: \", np.rint(er_pg_gcc.vcount() / er_paths_graph.vcount() * 100), \"%\")"
      ],
      "execution_count": 0,
      "outputs": []
    },
    {
      "cell_type": "code",
      "metadata": {
        "colab_type": "code",
        "id": "X6VfAqj9V_Yo",
        "outputId": "86c72528-4a66-4f9f-fe8c-3eb33342d294",
        "colab": {
          "base_uri": "https://localhost:8080/",
          "height": 1000
        }
      },
      "source": [
        "print(\"Paths graph cluster count: \", len(paths_graph.clusters().subgraphs()))\n",
        "print(\"ER paths graph cluster count: \", len(er_paths_graph.clusters().subgraphs()))\n",
        "\n",
        "for g in paths_graph.clusters().subgraphs():\n",
        "  print(g.vcount())"
      ],
      "execution_count": 0,
      "outputs": [
        {
          "output_type": "stream",
          "text": [
            "Paths graph cluster count:  353\n",
            "ER paths graph cluster count:  1\n",
            "1\n",
            "1\n",
            "1\n",
            "1\n",
            "1\n",
            "1\n",
            "1\n",
            "1\n",
            "1\n",
            "1\n",
            "1\n",
            "1\n",
            "1\n",
            "1\n",
            "1\n",
            "1\n",
            "1\n",
            "1\n",
            "1\n",
            "1\n",
            "1\n",
            "1\n",
            "1\n",
            "1\n",
            "1\n",
            "1\n",
            "1\n",
            "1\n",
            "1\n",
            "1\n",
            "1\n",
            "1\n",
            "1\n",
            "1\n",
            "1\n",
            "1\n",
            "1\n",
            "1\n",
            "1\n",
            "1\n",
            "1\n",
            "1\n",
            "1\n",
            "1\n",
            "1\n",
            "1\n",
            "1\n",
            "1\n",
            "1\n",
            "1\n",
            "1\n",
            "1\n",
            "1\n",
            "1\n",
            "1\n",
            "1\n",
            "1\n",
            "1\n",
            "1\n",
            "1\n",
            "1\n",
            "1\n",
            "1\n",
            "1\n",
            "1\n",
            "1\n",
            "1\n",
            "1\n",
            "1\n",
            "1\n",
            "1\n",
            "1\n",
            "1\n",
            "1\n",
            "1\n",
            "1\n",
            "1\n",
            "1\n",
            "1\n",
            "1\n",
            "1\n",
            "1\n",
            "1\n",
            "1\n",
            "1\n",
            "1\n",
            "1\n",
            "1\n",
            "1\n",
            "1\n",
            "1\n",
            "1\n",
            "1\n",
            "1\n",
            "1\n",
            "1\n",
            "1\n",
            "1\n",
            "1\n",
            "1\n",
            "1\n",
            "1\n",
            "1\n",
            "1\n",
            "1\n",
            "1\n",
            "1\n",
            "1\n",
            "1\n",
            "1\n",
            "1\n",
            "1\n",
            "1\n",
            "1\n",
            "1\n",
            "1\n",
            "1\n",
            "1\n",
            "1\n",
            "1\n",
            "1\n",
            "1\n",
            "1\n",
            "1\n",
            "1\n",
            "1\n",
            "1\n",
            "1\n",
            "1\n",
            "1\n",
            "1\n",
            "1\n",
            "1\n",
            "1\n",
            "1\n",
            "1\n",
            "1\n",
            "1\n",
            "1\n",
            "1\n",
            "1\n",
            "1\n",
            "1\n",
            "1\n",
            "1\n",
            "1\n",
            "1\n",
            "1\n",
            "1\n",
            "1\n",
            "1\n",
            "1\n",
            "1\n",
            "1\n",
            "1\n",
            "1\n",
            "1\n",
            "1\n",
            "1\n",
            "1\n",
            "1\n",
            "1\n",
            "1\n",
            "1\n",
            "1\n",
            "1\n",
            "1\n",
            "1\n",
            "1\n",
            "1\n",
            "1\n",
            "1\n",
            "1\n",
            "1\n",
            "1\n",
            "1\n",
            "1\n",
            "1\n",
            "1\n",
            "1\n",
            "1\n",
            "1\n",
            "1\n",
            "1\n",
            "1\n",
            "1\n",
            "1\n",
            "1\n",
            "1\n",
            "1\n",
            "1\n",
            "1\n",
            "1\n",
            "1\n",
            "1\n",
            "1\n",
            "1\n",
            "1\n",
            "1\n",
            "1\n",
            "1\n",
            "1\n",
            "1\n",
            "1\n",
            "1\n",
            "1\n",
            "1\n",
            "1\n",
            "1\n",
            "1\n",
            "1\n",
            "1\n",
            "1\n",
            "1\n",
            "1\n",
            "1\n",
            "1\n",
            "1\n",
            "1\n",
            "1\n",
            "1\n",
            "1\n",
            "1\n",
            "1\n",
            "1\n",
            "1\n",
            "1\n",
            "1\n",
            "1\n",
            "1\n",
            "1\n",
            "1\n",
            "1\n",
            "1\n",
            "1\n",
            "1\n",
            "1\n",
            "1\n",
            "1\n",
            "1\n",
            "1\n",
            "1\n",
            "1\n",
            "1\n",
            "1\n",
            "1\n",
            "1\n",
            "1\n",
            "1\n",
            "1\n",
            "1\n",
            "1\n",
            "1\n",
            "1\n",
            "1\n",
            "1\n",
            "1\n",
            "1\n",
            "1\n",
            "1\n",
            "1\n",
            "1\n",
            "1\n",
            "1\n",
            "1\n",
            "1\n",
            "1\n",
            "1\n",
            "1\n",
            "1\n",
            "1\n",
            "1\n",
            "1\n",
            "1\n",
            "1\n",
            "1\n",
            "1\n",
            "1\n",
            "1\n",
            "1\n",
            "1\n",
            "1\n",
            "1\n",
            "1\n",
            "1\n",
            "1\n",
            "1\n",
            "1\n",
            "1\n",
            "1\n",
            "1\n",
            "1\n",
            "1\n",
            "1\n",
            "1\n",
            "1\n",
            "1\n",
            "1\n",
            "1\n",
            "1\n",
            "1\n",
            "1\n",
            "1\n",
            "1\n",
            "1\n",
            "1\n",
            "1\n",
            "1\n",
            "1\n",
            "1\n",
            "1\n",
            "1\n",
            "1\n",
            "1\n",
            "1\n",
            "1\n",
            "1\n",
            "1\n",
            "1\n",
            "1\n",
            "1\n",
            "1\n",
            "1\n",
            "1\n",
            "1\n",
            "1\n",
            "1\n",
            "1\n",
            "1\n",
            "1\n",
            "1\n",
            "1\n",
            "1\n",
            "1\n",
            "1\n",
            "1\n",
            "1\n",
            "1\n",
            "1\n",
            "1\n",
            "1\n",
            "1\n",
            "1\n",
            "1\n",
            "1\n",
            "1\n",
            "3817\n",
            "1\n",
            "1\n",
            "1\n",
            "1\n",
            "1\n",
            "1\n"
          ],
          "name": "stdout"
        }
      ]
    },
    {
      "cell_type": "code",
      "metadata": {
        "colab_type": "code",
        "id": "9Yz-AMZHV_Ys",
        "colab": {}
      },
      "source": [
        "# Local clustering coefficient for directed graph\n",
        "pg_trans = np.array(paths_graph.transitivity_local_undirected(mode='nan')) / 2\n",
        "pg_cluster_coef = np.mean(pg_trans[np.logical_not(np.isnan(pg_trans))]) \n",
        "\n",
        "er_pg_trans = np.array(er_paths_graph.transitivity_local_undirected(mode='nan')) / 2\n",
        "er_pg_cluster_coef = np.mean(er_pg_trans[np.logical_not(np.isnan(er_pg_trans))]) \n",
        "\n",
        "\n",
        "print(\"Paths graph average local clustering coefficient: \", pg_cluster_coef)\n",
        "print(\"Erdo-Renyi paths graph average local clustering coefficient: \", er_pg_cluster_coef)"
      ],
      "execution_count": 0,
      "outputs": []
    },
    {
      "cell_type": "code",
      "metadata": {
        "colab_type": "code",
        "id": "vYMLGsPBV_Yv",
        "colab": {}
      },
      "source": [
        "print(\"Paths graph global clustering coeficient: \", paths_graph.transitivity_undirected())\n",
        "print(\"Erdo-Renyi paths graph global clustering coeficient: \", er_paths_graph.transitivity_undirected())"
      ],
      "execution_count": 0,
      "outputs": []
    },
    {
      "cell_type": "code",
      "metadata": {
        "colab_type": "code",
        "id": "i5bWcTdvV_Yy",
        "colab": {}
      },
      "source": [
        "print(\"Paths graph average betweenness centrality: \", np.mean(paths_graph.betweenness()))\n",
        "print(\"Erdo-Renyi paths graph average betweenness centrality: \", np.mean(er_paths_graph.betweenness()))"
      ],
      "execution_count": 0,
      "outputs": []
    },
    {
      "cell_type": "code",
      "metadata": {
        "id": "VgzvrHXpWRiJ",
        "colab_type": "code",
        "colab": {}
      },
      "source": [
        "paths_hist = paths_graph.degree_distribution()\n",
        "er_paths_hist = er_paths_graph.degree_distribution()\n",
        "\n",
        "paths_p_k = pd.Series([number for (left, right, number) in paths_hist.bins()])\n",
        "er_paths_p_k = pd.Series([number for (left, right, number) in er_paths_hist.bins()])\n",
        "\n",
        "paths_p_k.plot(loglog=True, legend=True, label='My graph', style='x', figsize=(15,5), title='Degree distribution', alpha=0.7)\n",
        "er_paths_p_k.plot(loglog=True, legend=True, label='Erdos-Renyi', style='+', alpha=0.7)\n",
        "\n",
        "bins, vals = log_binning(paths_graph.degree(), paths_p_k)\n",
        "plt.ylim(paths_p_k.min()-1)\n",
        "plt.scatter(y=vals, x = bins, c = 'red', alpha=0.7)\n",
        "plt.legend()"
      ],
      "execution_count": 0,
      "outputs": []
    },
    {
      "cell_type": "code",
      "metadata": {
        "id": "foRu_4YJ-b0_",
        "colab_type": "code",
        "colab": {}
      },
      "source": [
        ""
      ],
      "execution_count": 0,
      "outputs": []
    },
    {
      "cell_type": "code",
      "metadata": {
        "colab_type": "code",
        "id": "Z4FN6mg5_E96",
        "colab": {}
      },
      "source": [
        "paths_P_k = paths_p_k[::-1].cumsum()[::-1]\n",
        "er_paths_P_k = er_paths_p_k[::-1].cumsum()[::-1]\n",
        "\n",
        "paths_P_k.plot(loglog=True, legend=True, label='My graph', style='x', figsize=(15,5), \n",
        "            title='Cumulative degree distribution')\n",
        "er_paths_P_k.plot(loglog=True, legend=True, label='Erdos-Renyi', style='+')\n",
        "plt.legend()"
      ],
      "execution_count": 0,
      "outputs": []
    },
    {
      "cell_type": "code",
      "metadata": {
        "colab_type": "code",
        "id": "HiBs8l0__E-Z",
        "colab": {}
      },
      "source": [
        "popt, pcov = curve_fit(f, x, np.log(my_P_k.values))\n",
        "pred_P_y = pd.Series(f(x, popt[0], popt[1]))\n",
        "\n",
        "my_P_k.plot(loglog=True, legend=True, label='My graph', style='s', figsize=(15,5), title='Distribution function', alpha=0.5)\n",
        "plt.plot(x, np.exp(pred_P_y), label = 'Fit')\n",
        "plt.title(\"P(k) = {} * x ^ (-{})\".format(popt[0], popt[1]))\n",
        "plt.legend()"
      ],
      "execution_count": 0,
      "outputs": []
    },
    {
      "cell_type": "code",
      "metadata": {
        "id": "2Di9WX-zds2X",
        "colab_type": "code",
        "colab": {}
      },
      "source": [
        "def topN(arr, n, graph):\n",
        "  indices = arr.argsort()[::-1][:n]\n",
        "  for idx in indices:\n",
        "    print(graph.vs[idx]['name'])\n",
        "    \n",
        "print(\"Top 10 degree nodes in paths graph:\")\n",
        "topN(np.array(paths_graph.degree()), 10, paths_graph)"
      ],
      "execution_count": 0,
      "outputs": []
    },
    {
      "cell_type": "code",
      "metadata": {
        "id": "gZjO36ZxhSCx",
        "colab_type": "code",
        "colab": {}
      },
      "source": [
        "print(\"Top 10 degree nodes in my graph:\")\n",
        "topN(np.array(my_graph.degree()), 10, my_graph)"
      ],
      "execution_count": 0,
      "outputs": []
    },
    {
      "cell_type": "code",
      "metadata": {
        "id": "2HtU5beFmj9I",
        "colab_type": "code",
        "colab": {}
      },
      "source": [
        "print(\"Top 10 betweenness centrality nodes in paths graph:\")\n",
        "topN(np.array(paths_graph.betweenness()), 10, paths_graph)"
      ],
      "execution_count": 0,
      "outputs": []
    },
    {
      "cell_type": "code",
      "metadata": {
        "id": "jFnuE0__Rcdc",
        "colab_type": "code",
        "colab": {}
      },
      "source": [
        "print(\"Top 10 betweenness centrality nodes in my graph:\")\n",
        "topN(np.array(my_graph.betweenness()), 10, my_graph)"
      ],
      "execution_count": 0,
      "outputs": []
    },
    {
      "cell_type": "code",
      "metadata": {
        "colab_type": "code",
        "id": "f1kvZeu-rbeq",
        "colab": {}
      },
      "source": [
        "paths_partition = louvain.find_partition(paths_graph, louvain.ModularityVertexPartition)\n",
        "print(\"Paths graph modularity score of partitioning by Louvain algorithm: \", paths_partition.modularity)"
      ],
      "execution_count": 0,
      "outputs": []
    },
    {
      "cell_type": "code",
      "metadata": {
        "colab_type": "code",
        "id": "4V_lAi8vrbey",
        "colab": {}
      },
      "source": [
        "print(\"Number of communities of paths graph: \", max(paths_partition.membership) + 1)"
      ],
      "execution_count": 0,
      "outputs": []
    },
    {
      "cell_type": "code",
      "metadata": {
        "colab_type": "code",
        "id": "K1D_Kb9Yrbe2",
        "colab": {}
      },
      "source": [
        "paths_cluster_sizes = pd.Series(paths_partition.sizes())\n",
        "paths_cluster_sizes.plot(style='.', ms=15, title='Community sizes', xlim=(-1, max(paths_partition.membership)+1))"
      ],
      "execution_count": 0,
      "outputs": []
    },
    {
      "cell_type": "code",
      "metadata": {
        "id": "T9ID7Ns5r_4f",
        "colab_type": "code",
        "colab": {}
      },
      "source": [
        "## Music \n",
        "print_community(paths_partition, 10)"
      ],
      "execution_count": 0,
      "outputs": []
    },
    {
      "cell_type": "code",
      "metadata": {
        "id": "6ziM9HudvX4l",
        "colab_type": "code",
        "colab": {}
      },
      "source": [
        "## Economics/politics?\n",
        "print_community(paths_partition, 9)"
      ],
      "execution_count": 0,
      "outputs": []
    },
    {
      "cell_type": "code",
      "metadata": {
        "id": "_BPpNmsmv7_r",
        "colab_type": "code",
        "colab": {}
      },
      "source": [
        "## Plants/Food/Chemicals\n",
        "print_community(paths_partition, 8)"
      ],
      "execution_count": 0,
      "outputs": []
    },
    {
      "cell_type": "code",
      "metadata": {
        "id": "SIKh4yQi7o7O",
        "colab_type": "code",
        "colab": {}
      },
      "source": [
        "## Technology, computers, films\n",
        "print_community(paths_partition, 7)"
      ],
      "execution_count": 0,
      "outputs": []
    },
    {
      "cell_type": "code",
      "metadata": {
        "id": "MXj2x9vk8APG",
        "colab_type": "code",
        "colab": {}
      },
      "source": [
        "## history?\n",
        "print_community(paths_partition, 6)"
      ],
      "execution_count": 0,
      "outputs": []
    },
    {
      "cell_type": "code",
      "metadata": {
        "id": "MkNrIFbM8axZ",
        "colab_type": "code",
        "colab": {}
      },
      "source": [
        "## Arts, philosophy, mythology\n",
        "print_community(paths_partition, 5)"
      ],
      "execution_count": 0,
      "outputs": []
    },
    {
      "cell_type": "code",
      "metadata": {
        "id": "HfTjxMPw8v8Z",
        "colab_type": "code",
        "colab": {}
      },
      "source": [
        "## Animals, their organisms, some diseases\n",
        "print_community(paths_partition, 4)"
      ],
      "execution_count": 0,
      "outputs": []
    },
    {
      "cell_type": "code",
      "metadata": {
        "id": "sROTYRKW9Ifd",
        "colab_type": "code",
        "colab": {}
      },
      "source": [
        "## Geography - countries, states\n",
        "print_community(paths_partition, 3)"
      ],
      "execution_count": 0,
      "outputs": []
    },
    {
      "cell_type": "code",
      "metadata": {
        "id": "8okA6rSjwdwO",
        "colab_type": "code",
        "colab": {}
      },
      "source": [
        "## Chemical elements/Science/Scientists\n",
        "print_community(paths_partition, 2)"
      ],
      "execution_count": 0,
      "outputs": []
    },
    {
      "cell_type": "code",
      "metadata": {
        "id": "ieHm1V_R9Xrt",
        "colab_type": "code",
        "colab": {}
      },
      "source": [
        "## Too generaly - maybe states/countries in America, people\n",
        "print_community(paths_partition, 1)"
      ],
      "execution_count": 0,
      "outputs": []
    },
    {
      "cell_type": "code",
      "metadata": {
        "id": "opnqeXOQ94_k",
        "colab_type": "code",
        "colab": {}
      },
      "source": [
        "## Engalnd, Europe, their people\n",
        "print_community(paths_partition, 0)"
      ],
      "execution_count": 0,
      "outputs": []
    },
    {
      "cell_type": "code",
      "metadata": {
        "id": "IX-pUXfnw9gO",
        "colab_type": "code",
        "colab": {}
      },
      "source": [
        "g0 = paths_partition.subgraphs()[0]\n",
        "g_hist = g0.degree_distribution()\n",
        "g_p_k = pd.Series([number for (left, right, number) in g_hist.bins()])\n",
        "g_p_k.plot(loglog=True, legend=True, style='x', figsize=(15,5), title='Degree distribution', alpha=0.7)\n",
        "print(min(g0.degree()))"
      ],
      "execution_count": 0,
      "outputs": []
    },
    {
      "cell_type": "code",
      "metadata": {
        "id": "69flnBfNzwc0",
        "colab_type": "code",
        "colab": {}
      },
      "source": [
        "g8 = paths_partition.subgraphs()[8]\n",
        "g_hist = g8.degree_distribution()\n",
        "g_p_k = pd.Series([number for (left, right, number) in g_hist.bins()])\n",
        "g_p_k.plot(loglog=True, style='x', figsize=(15,5), title='Degree distribution', alpha=0.7)\n",
        "print(min(g8.degree()))"
      ],
      "execution_count": 0,
      "outputs": []
    },
    {
      "cell_type": "code",
      "metadata": {
        "id": "Njgh-_nHzDW6",
        "colab_type": "code",
        "colab": {}
      },
      "source": [
        "g5 = paths_partition.subgraphs()[5]\n",
        "g_hist = g5.degree_distribution()\n",
        "g_p_k = pd.Series([number for (left, right, number) in g_hist.bins()])\n",
        "g_p_k.plot(loglog=True, style='x', figsize=(15,5), title='Degree distribution', alpha=0.7)\n",
        "print(min(g5.degree()))"
      ],
      "execution_count": 0,
      "outputs": []
    },
    {
      "cell_type": "code",
      "metadata": {
        "id": "UXy-mIG_zYzy",
        "colab_type": "code",
        "colab": {}
      },
      "source": [
        "g10 = paths_partition.subgraphs()[10]\n",
        "g_hist = g10.degree_distribution()\n",
        "g_p_k = pd.Series([number for (left, right, number) in g_hist.bins()])\n",
        "g_p_k.plot(loglog=True, style='x', figsize=(15,5), title='Degree distribution', alpha=0.7)\n",
        "print(min(g10.degree()))"
      ],
      "execution_count": 0,
      "outputs": []
    },
    {
      "cell_type": "code",
      "metadata": {
        "id": "Mm3JIOq4zj3A",
        "colab_type": "code",
        "colab": {}
      },
      "source": [
        "paths_communities = paths_partition.subgraphs()\n",
        "com_cluster_coefs = [g.transitivity_undirected() for g in paths_communities]\n",
        "\n",
        "pd.Series(com_cluster_coefs).plot(style='.', ms=15, xlim=(-1,len(com_cluster_coefs)), \n",
        "                                  title = \"Global clustering coefficients in communities\")\n",
        "print(np.mean(com_cluster_coefs))"
      ],
      "execution_count": 0,
      "outputs": []
    },
    {
      "cell_type": "markdown",
      "metadata": {
        "id": "jD-q--QuVMPT",
        "colab_type": "text"
      },
      "source": [
        "Hypothesis here is that smaller communities tend to be more specialised and therefore they have bigger clustering coefficients, i. e. when people are searching something in such a community there is a high probability that they will visit the vertices' neighbors as well. "
      ]
    },
    {
      "cell_type": "code",
      "metadata": {
        "id": "MxCdMcjMP0pH",
        "colab_type": "code",
        "colab": {}
      },
      "source": [
        "com_betweennesses = [np.mean(g.betweenness()) for g in paths_communities]\n",
        "\n",
        "pd.Series(com_betweennesses).plot(style='.', ms=15, xlim=(-1,len(com_betweennesses)), \n",
        "                                  title = \"Average betweenness centralities in communities\")"
      ],
      "execution_count": 0,
      "outputs": []
    },
    {
      "cell_type": "markdown",
      "metadata": {
        "id": "sKXSavjLS8CH",
        "colab_type": "text"
      },
      "source": [
        "Betweenness centralities are in general lower than in whole graph, since we don't take into account links between communities which will have high score of centrality. Centralities values decrease probably because size s of communities decrease as well."
      ]
    },
    {
      "cell_type": "code",
      "metadata": {
        "id": "JCd5wdyvNO_r",
        "colab_type": "code",
        "colab": {}
      },
      "source": [
        ""
      ],
      "execution_count": 0,
      "outputs": []
    }
  ]
}